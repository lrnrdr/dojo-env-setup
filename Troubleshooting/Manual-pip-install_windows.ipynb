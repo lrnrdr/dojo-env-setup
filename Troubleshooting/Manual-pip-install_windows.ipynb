{
 "cells": [
  {
   "cell_type": "markdown",
   "id": "7c67b557-2c95-4cf9-9751-e0e60b535dcb",
   "metadata": {},
   "source": [
    "# Windows"
   ]
  },
  {
   "cell_type": "markdown",
   "id": "09a823d1-84b9-49ec-bb1f-d6a64ea646f4",
   "metadata": {},
   "source": [
    "> Note: make sure the notebook says \"Python(dojo-env)\" on the top right of jupyter, right below the logout buton.\n",
    "\n",
    "* Run this full notebook and take note of where you receive an error.\n",
    "\n",
    "* If it doesn't, click on the Kernel menu > Change Kernel > Python(dojo-env).\n",
    "\n",
    "* If you receive an error, skip the cell that error'd and continuing running the cells below.\n",
    "\n",
    "* Continue until you have run all of the installation commands successfully.\n",
    "\n",
    "* Save this notebook to share with your instructor for troubleshooting."
   ]
  },
  {
   "cell_type": "code",
   "execution_count": 1,
   "id": "3775b7a0-703d-4559-8e4e-28e06938ba7a",
   "metadata": {},
   "outputs": [
    {
     "name": "stdout",
     "output_type": "stream",
     "text": [
      "Requirement already satisfied: absl-py==1.4.0 in c:\\users\\rdrlr\\anaconda3\\envs\\dojo-env\\lib\\site-packages (1.4.0)\n"
     ]
    }
   ],
   "source": [
    "!pip install absl-py==1.4.0 --user"
   ]
  },
  {
   "cell_type": "code",
   "execution_count": 2,
   "id": "bbad3ca9-e94e-4b68-9d86-6ee8982dfccf",
   "metadata": {},
   "outputs": [
    {
     "name": "stdout",
     "output_type": "stream",
     "text": [
      "Requirement already satisfied: astunparse==1.6.3 in c:\\users\\rdrlr\\anaconda3\\envs\\dojo-env\\lib\\site-packages (1.6.3)\n",
      "Requirement already satisfied: wheel<1.0,>=0.23.0 in c:\\users\\rdrlr\\anaconda3\\envs\\dojo-env\\lib\\site-packages (from astunparse==1.6.3) (0.38.4)\n",
      "Requirement already satisfied: six<2.0,>=1.6.1 in c:\\users\\rdrlr\\anaconda3\\envs\\dojo-env\\lib\\site-packages (from astunparse==1.6.3) (1.16.0)\n"
     ]
    }
   ],
   "source": [
    "!pip install astunparse==1.6.3 --user"
   ]
  },
  {
   "cell_type": "code",
   "execution_count": 3,
   "id": "27dce8ea-bb26-4509-87b5-06ae57c1d4de",
   "metadata": {},
   "outputs": [
    {
     "name": "stdout",
     "output_type": "stream",
     "text": [
      "Requirement already satisfied: autopep8==2.0.2 in c:\\users\\rdrlr\\anaconda3\\envs\\dojo-env\\lib\\site-packages (2.0.2)\n",
      "Requirement already satisfied: pycodestyle>=2.10.0 in c:\\users\\rdrlr\\anaconda3\\envs\\dojo-env\\lib\\site-packages (from autopep8==2.0.2) (2.10.0)\n",
      "Requirement already satisfied: tomli in c:\\users\\rdrlr\\anaconda3\\envs\\dojo-env\\lib\\site-packages (from autopep8==2.0.2) (2.0.1)\n"
     ]
    }
   ],
   "source": [
    "!pip install autopep8==2.0.2 --user"
   ]
  },
  {
   "cell_type": "code",
   "execution_count": 4,
   "id": "3a29f80b-b3a1-415d-aee7-f0c9e6a84e00",
   "metadata": {},
   "outputs": [
    {
     "name": "stdout",
     "output_type": "stream",
     "text": [
      "Requirement already satisfied: black==23.3.0 in c:\\users\\rdrlr\\anaconda3\\envs\\dojo-env\\lib\\site-packages (23.3.0)\n",
      "Requirement already satisfied: click>=8.0.0 in c:\\users\\rdrlr\\anaconda3\\envs\\dojo-env\\lib\\site-packages (from black==23.3.0) (8.0.4)\n",
      "Requirement already satisfied: mypy-extensions>=0.4.3 in c:\\users\\rdrlr\\anaconda3\\envs\\dojo-env\\lib\\site-packages (from black==23.3.0) (1.0.0)\n",
      "Requirement already satisfied: packaging>=22.0 in c:\\users\\rdrlr\\anaconda3\\envs\\dojo-env\\lib\\site-packages (from black==23.3.0) (23.0)\n",
      "Requirement already satisfied: pathspec>=0.9.0 in c:\\users\\rdrlr\\anaconda3\\envs\\dojo-env\\lib\\site-packages (from black==23.3.0) (0.11.1)\n",
      "Requirement already satisfied: platformdirs>=2 in c:\\users\\rdrlr\\anaconda3\\envs\\dojo-env\\lib\\site-packages (from black==23.3.0) (2.5.2)\n",
      "Requirement already satisfied: tomli>=1.1.0 in c:\\users\\rdrlr\\anaconda3\\envs\\dojo-env\\lib\\site-packages (from black==23.3.0) (2.0.1)\n",
      "Requirement already satisfied: colorama in c:\\users\\rdrlr\\anaconda3\\envs\\dojo-env\\lib\\site-packages (from click>=8.0.0->black==23.3.0) (0.4.6)\n"
     ]
    }
   ],
   "source": [
    "!pip install black==23.3.0 --user"
   ]
  },
  {
   "cell_type": "code",
   "execution_count": 5,
   "id": "20ea8623-c0af-487a-8db7-4913a0f690ba",
   "metadata": {},
   "outputs": [
    {
     "name": "stdout",
     "output_type": "stream",
     "text": [
      "Requirement already satisfied: cachetools==5.3.0 in c:\\users\\rdrlr\\anaconda3\\envs\\dojo-env\\lib\\site-packages (5.3.0)\n"
     ]
    }
   ],
   "source": [
    "!pip install cachetools==5.3.0 --user"
   ]
  },
  {
   "cell_type": "code",
   "execution_count": 6,
   "id": "75d0d6d4-9fba-4064-8b96-8703b7ca2598",
   "metadata": {},
   "outputs": [
    {
     "name": "stdout",
     "output_type": "stream",
     "text": [
      "Requirement already satisfied: collinearity==0.6.1 in c:\\users\\rdrlr\\anaconda3\\envs\\dojo-env\\lib\\site-packages (0.6.1)\n",
      "Requirement already satisfied: numpy in c:\\users\\rdrlr\\anaconda3\\envs\\dojo-env\\lib\\site-packages (from collinearity==0.6.1) (1.23.4)\n",
      "Requirement already satisfied: scikit-learn in c:\\users\\rdrlr\\anaconda3\\envs\\dojo-env\\lib\\site-packages (from collinearity==0.6.1) (1.2.2)\n",
      "Requirement already satisfied: scipy>=1.3.2 in c:\\users\\rdrlr\\anaconda3\\envs\\dojo-env\\lib\\site-packages (from scikit-learn->collinearity==0.6.1) (1.10.1)\n",
      "Requirement already satisfied: joblib>=1.1.1 in c:\\users\\rdrlr\\anaconda3\\envs\\dojo-env\\lib\\site-packages (from scikit-learn->collinearity==0.6.1) (1.1.1)\n",
      "Requirement already satisfied: threadpoolctl>=2.0.0 in c:\\users\\rdrlr\\anaconda3\\envs\\dojo-env\\lib\\site-packages (from scikit-learn->collinearity==0.6.1) (2.2.0)\n"
     ]
    }
   ],
   "source": [
    "!pip install collinearity==0.6.1 --user"
   ]
  },
  {
   "cell_type": "code",
   "execution_count": 7,
   "id": "493b7b20-a7ae-4307-9ea9-bf02d3bef376",
   "metadata": {},
   "outputs": [
    {
     "name": "stdout",
     "output_type": "stream",
     "text": [
      "Requirement already satisfied: exceptiongroup==1.1.2 in c:\\users\\rdrlr\\anaconda3\\envs\\dojo-env\\lib\\site-packages (1.1.2)\n"
     ]
    }
   ],
   "source": [
    "!pip install exceptiongroup==1.1.2 --user"
   ]
  },
  {
   "cell_type": "code",
   "execution_count": 8,
   "id": "0e58264e-74f0-408c-9efc-e5cf4d65a77c",
   "metadata": {},
   "outputs": [
    {
     "name": "stdout",
     "output_type": "stream",
     "text": [
      "Requirement already satisfied: flatbuffers==23.5.9 in c:\\users\\rdrlr\\anaconda3\\envs\\dojo-env\\lib\\site-packages (23.5.9)\n"
     ]
    }
   ],
   "source": [
    "!pip install flatbuffers==23.5.9 --user"
   ]
  },
  {
   "cell_type": "code",
   "execution_count": 9,
   "id": "7c82c7f8-d862-47aa-91c2-fdc3e8e7a1cd",
   "metadata": {},
   "outputs": [
    {
     "name": "stdout",
     "output_type": "stream",
     "text": [
      "Requirement already satisfied: frozendict==2.3.8 in c:\\users\\rdrlr\\anaconda3\\envs\\dojo-env\\lib\\site-packages (2.3.8)\n"
     ]
    }
   ],
   "source": [
    "!pip install frozendict==2.3.8 --user"
   ]
  },
  {
   "cell_type": "code",
   "execution_count": 10,
   "id": "144296aa-1b75-4a3e-b079-e499b520189c",
   "metadata": {},
   "outputs": [
    {
     "name": "stdout",
     "output_type": "stream",
     "text": [
      "Requirement already satisfied: gast==0.4.0 in c:\\users\\rdrlr\\anaconda3\\envs\\dojo-env\\lib\\site-packages (0.4.0)\n"
     ]
    }
   ],
   "source": [
    "!pip install gast==0.4.0 --user"
   ]
  },
  {
   "cell_type": "code",
   "execution_count": 11,
   "id": "a4ee1d9f-aab6-4a5c-a9d0-5aeae2f99ad2",
   "metadata": {},
   "outputs": [
    {
     "name": "stdout",
     "output_type": "stream",
     "text": [
      "Requirement already satisfied: google-auth-oauthlib==1.0.0 in c:\\users\\rdrlr\\anaconda3\\envs\\dojo-env\\lib\\site-packages (1.0.0)\n",
      "Requirement already satisfied: google-auth>=2.15.0 in c:\\users\\rdrlr\\anaconda3\\envs\\dojo-env\\lib\\site-packages (from google-auth-oauthlib==1.0.0) (2.18.1)\n",
      "Requirement already satisfied: requests-oauthlib>=0.7.0 in c:\\users\\rdrlr\\anaconda3\\envs\\dojo-env\\lib\\site-packages (from google-auth-oauthlib==1.0.0) (1.3.1)\n",
      "Requirement already satisfied: cachetools<6.0,>=2.0.0 in c:\\users\\rdrlr\\anaconda3\\envs\\dojo-env\\lib\\site-packages (from google-auth>=2.15.0->google-auth-oauthlib==1.0.0) (5.3.0)\n",
      "Requirement already satisfied: pyasn1-modules>=0.2.1 in c:\\users\\rdrlr\\anaconda3\\envs\\dojo-env\\lib\\site-packages (from google-auth>=2.15.0->google-auth-oauthlib==1.0.0) (0.3.0)\n",
      "Requirement already satisfied: six>=1.9.0 in c:\\users\\rdrlr\\anaconda3\\envs\\dojo-env\\lib\\site-packages (from google-auth>=2.15.0->google-auth-oauthlib==1.0.0) (1.16.0)\n",
      "Requirement already satisfied: urllib3<2.0 in c:\\users\\rdrlr\\anaconda3\\envs\\dojo-env\\lib\\site-packages (from google-auth>=2.15.0->google-auth-oauthlib==1.0.0) (1.26.15)\n",
      "Requirement already satisfied: rsa<5,>=3.1.4 in c:\\users\\rdrlr\\anaconda3\\envs\\dojo-env\\lib\\site-packages (from google-auth>=2.15.0->google-auth-oauthlib==1.0.0) (4.9)\n",
      "Requirement already satisfied: oauthlib>=3.0.0 in c:\\users\\rdrlr\\anaconda3\\envs\\dojo-env\\lib\\site-packages (from requests-oauthlib>=0.7.0->google-auth-oauthlib==1.0.0) (3.2.2)\n",
      "Requirement already satisfied: requests>=2.0.0 in c:\\users\\rdrlr\\anaconda3\\envs\\dojo-env\\lib\\site-packages (from requests-oauthlib>=0.7.0->google-auth-oauthlib==1.0.0) (2.29.0)\n",
      "Requirement already satisfied: pyasn1<0.6.0,>=0.4.6 in c:\\users\\rdrlr\\anaconda3\\envs\\dojo-env\\lib\\site-packages (from pyasn1-modules>=0.2.1->google-auth>=2.15.0->google-auth-oauthlib==1.0.0) (0.5.0)\n",
      "Requirement already satisfied: charset-normalizer<4,>=2 in c:\\users\\rdrlr\\anaconda3\\envs\\dojo-env\\lib\\site-packages (from requests>=2.0.0->requests-oauthlib>=0.7.0->google-auth-oauthlib==1.0.0) (2.0.4)\n",
      "Requirement already satisfied: idna<4,>=2.5 in c:\\users\\rdrlr\\anaconda3\\envs\\dojo-env\\lib\\site-packages (from requests>=2.0.0->requests-oauthlib>=0.7.0->google-auth-oauthlib==1.0.0) (3.4)\n",
      "Requirement already satisfied: certifi>=2017.4.17 in c:\\users\\rdrlr\\anaconda3\\envs\\dojo-env\\lib\\site-packages (from requests>=2.0.0->requests-oauthlib>=0.7.0->google-auth-oauthlib==1.0.0) (2023.5.7)\n"
     ]
    }
   ],
   "source": [
    "!pip install google-auth-oauthlib==1.0.0 --user"
   ]
  },
  {
   "cell_type": "code",
   "execution_count": 12,
   "id": "fd82a94f-8c25-45c0-8f86-8d3193fab705",
   "metadata": {},
   "outputs": [
    {
     "name": "stdout",
     "output_type": "stream",
     "text": [
      "Requirement already satisfied: google-auth==2.18.1 in c:\\users\\rdrlr\\anaconda3\\envs\\dojo-env\\lib\\site-packages (2.18.1)\n",
      "Requirement already satisfied: cachetools<6.0,>=2.0.0 in c:\\users\\rdrlr\\anaconda3\\envs\\dojo-env\\lib\\site-packages (from google-auth==2.18.1) (5.3.0)\n",
      "Requirement already satisfied: pyasn1-modules>=0.2.1 in c:\\users\\rdrlr\\anaconda3\\envs\\dojo-env\\lib\\site-packages (from google-auth==2.18.1) (0.3.0)\n",
      "Requirement already satisfied: six>=1.9.0 in c:\\users\\rdrlr\\anaconda3\\envs\\dojo-env\\lib\\site-packages (from google-auth==2.18.1) (1.16.0)\n",
      "Requirement already satisfied: urllib3<2.0 in c:\\users\\rdrlr\\anaconda3\\envs\\dojo-env\\lib\\site-packages (from google-auth==2.18.1) (1.26.15)\n",
      "Requirement already satisfied: rsa<5,>=3.1.4 in c:\\users\\rdrlr\\anaconda3\\envs\\dojo-env\\lib\\site-packages (from google-auth==2.18.1) (4.9)\n",
      "Requirement already satisfied: pyasn1<0.6.0,>=0.4.6 in c:\\users\\rdrlr\\anaconda3\\envs\\dojo-env\\lib\\site-packages (from pyasn1-modules>=0.2.1->google-auth==2.18.1) (0.5.0)\n"
     ]
    }
   ],
   "source": [
    "!pip install google-auth==2.18.1 --user"
   ]
  },
  {
   "cell_type": "code",
   "execution_count": 13,
   "id": "9f181576-c259-4ccf-9420-d7951ade495a",
   "metadata": {},
   "outputs": [
    {
     "name": "stdout",
     "output_type": "stream",
     "text": [
      "Requirement already satisfied: google-pasta==0.2.0 in c:\\users\\rdrlr\\anaconda3\\envs\\dojo-env\\lib\\site-packages (0.2.0)\n",
      "Requirement already satisfied: six in c:\\users\\rdrlr\\anaconda3\\envs\\dojo-env\\lib\\site-packages (from google-pasta==0.2.0) (1.16.0)\n"
     ]
    }
   ],
   "source": [
    "!pip install google-pasta==0.2.0 --user"
   ]
  },
  {
   "cell_type": "code",
   "execution_count": 14,
   "id": "ec642ef9-21bf-4390-acd4-f92943e3959b",
   "metadata": {},
   "outputs": [
    {
     "name": "stdout",
     "output_type": "stream",
     "text": [
      "Requirement already satisfied: h11==0.14.0 in c:\\users\\rdrlr\\anaconda3\\envs\\dojo-env\\lib\\site-packages (0.14.0)\n"
     ]
    }
   ],
   "source": [
    "!pip install h11==0.14.0 --user"
   ]
  },
  {
   "cell_type": "code",
   "execution_count": 15,
   "id": "17d39cd3-e415-4dfe-bc32-33b172867d22",
   "metadata": {},
   "outputs": [
    {
     "name": "stdout",
     "output_type": "stream",
     "text": [
      "Requirement already satisfied: h5py==3.8.0 in c:\\users\\rdrlr\\anaconda3\\envs\\dojo-env\\lib\\site-packages (3.8.0)\n",
      "Requirement already satisfied: numpy>=1.14.5 in c:\\users\\rdrlr\\anaconda3\\envs\\dojo-env\\lib\\site-packages (from h5py==3.8.0) (1.23.4)\n"
     ]
    }
   ],
   "source": [
    "!pip install h5py==3.8.0 --user"
   ]
  },
  {
   "cell_type": "code",
   "execution_count": 16,
   "id": "080723bc-2d72-4855-9bb6-f5c9dacba45b",
   "metadata": {},
   "outputs": [
    {
     "name": "stdout",
     "output_type": "stream",
     "text": [
      "Requirement already satisfied: holidays==0.25 in c:\\users\\rdrlr\\anaconda3\\envs\\dojo-env\\lib\\site-packages (0.25)\n",
      "Requirement already satisfied: korean-lunar-calendar in c:\\users\\rdrlr\\anaconda3\\envs\\dojo-env\\lib\\site-packages (from holidays==0.25) (0.3.1)\n",
      "Requirement already satisfied: python-dateutil in c:\\users\\rdrlr\\anaconda3\\envs\\dojo-env\\lib\\site-packages (from holidays==0.25) (2.8.2)\n",
      "Requirement already satisfied: six>=1.5 in c:\\users\\rdrlr\\anaconda3\\envs\\dojo-env\\lib\\site-packages (from python-dateutil->holidays==0.25) (1.16.0)\n"
     ]
    }
   ],
   "source": [
    "!pip install holidays==0.25 --user"
   ]
  },
  {
   "cell_type": "code",
   "execution_count": 17,
   "id": "36592daf-fb0f-4bd9-a196-f2e39dfbba0f",
   "metadata": {},
   "outputs": [
    {
     "name": "stdout",
     "output_type": "stream",
     "text": [
      "Requirement already satisfied: html5lib==1.1 in c:\\users\\rdrlr\\anaconda3\\envs\\dojo-env\\lib\\site-packages (1.1)\n",
      "Requirement already satisfied: six>=1.9 in c:\\users\\rdrlr\\anaconda3\\envs\\dojo-env\\lib\\site-packages (from html5lib==1.1) (1.16.0)\n",
      "Requirement already satisfied: webencodings in c:\\users\\rdrlr\\anaconda3\\envs\\dojo-env\\lib\\site-packages (from html5lib==1.1) (0.5.1)\n"
     ]
    }
   ],
   "source": [
    "!pip install html5lib==1.1 --user"
   ]
  },
  {
   "cell_type": "code",
   "execution_count": 18,
   "id": "7456a561-82a0-4071-9cce-f7a350fc07dd",
   "metadata": {},
   "outputs": [
    {
     "name": "stdout",
     "output_type": "stream",
     "text": [
      "Requirement already satisfied: isort==5.12.0 in c:\\users\\rdrlr\\anaconda3\\envs\\dojo-env\\lib\\site-packages (5.12.0)\n"
     ]
    }
   ],
   "source": [
    "!pip install isort==5.12.0 --user"
   ]
  },
  {
   "cell_type": "code",
   "execution_count": 19,
   "id": "b800d845-2f85-45b2-83ee-19796bc73918",
   "metadata": {},
   "outputs": [
    {
     "name": "stdout",
     "output_type": "stream",
     "text": [
      "Requirement already satisfied: jax==0.4.10 in c:\\users\\rdrlr\\anaconda3\\envs\\dojo-env\\lib\\site-packages (0.4.10)\n",
      "Requirement already satisfied: ml-dtypes>=0.1.0 in c:\\users\\rdrlr\\anaconda3\\envs\\dojo-env\\lib\\site-packages (from jax==0.4.10) (0.1.0)\n",
      "Requirement already satisfied: numpy>=1.21 in c:\\users\\rdrlr\\anaconda3\\envs\\dojo-env\\lib\\site-packages (from jax==0.4.10) (1.23.4)\n",
      "Requirement already satisfied: opt-einsum in c:\\users\\rdrlr\\anaconda3\\envs\\dojo-env\\lib\\site-packages (from jax==0.4.10) (3.3.0)\n",
      "Requirement already satisfied: scipy>=1.7 in c:\\users\\rdrlr\\anaconda3\\envs\\dojo-env\\lib\\site-packages (from jax==0.4.10) (1.10.1)\n"
     ]
    }
   ],
   "source": [
    "!pip install jax==0.4.10 --user"
   ]
  },
  {
   "cell_type": "code",
   "execution_count": 20,
   "id": "7a48c76e-1673-4f20-8fc4-9d397d1a8737",
   "metadata": {},
   "outputs": [
    {
     "name": "stdout",
     "output_type": "stream",
     "text": [
      "Requirement already satisfied: keras-cv==0.6.1 in c:\\users\\rdrlr\\anaconda3\\envs\\dojo-env\\lib\\site-packages (0.6.1)\n",
      "Requirement already satisfied: packaging in c:\\users\\rdrlr\\anaconda3\\envs\\dojo-env\\lib\\site-packages (from keras-cv==0.6.1) (23.0)\n",
      "Requirement already satisfied: absl-py in c:\\users\\rdrlr\\anaconda3\\envs\\dojo-env\\lib\\site-packages (from keras-cv==0.6.1) (1.4.0)\n",
      "Requirement already satisfied: regex in c:\\users\\rdrlr\\anaconda3\\envs\\dojo-env\\lib\\site-packages (from keras-cv==0.6.1) (2022.7.9)\n",
      "Requirement already satisfied: tensorflow-datasets in c:\\users\\rdrlr\\anaconda3\\envs\\dojo-env\\lib\\site-packages (from keras-cv==0.6.1) (4.9.3)\n",
      "Requirement already satisfied: array-record in c:\\users\\rdrlr\\anaconda3\\envs\\dojo-env\\lib\\site-packages (from tensorflow-datasets->keras-cv==0.6.1) (0.4.1)\n",
      "Requirement already satisfied: click in c:\\users\\rdrlr\\anaconda3\\envs\\dojo-env\\lib\\site-packages (from tensorflow-datasets->keras-cv==0.6.1) (8.0.4)\n",
      "Requirement already satisfied: dm-tree in c:\\users\\rdrlr\\anaconda3\\envs\\dojo-env\\lib\\site-packages (from tensorflow-datasets->keras-cv==0.6.1) (0.1.8)\n",
      "Requirement already satisfied: etils[enp,epath,etree]>=0.9.0 in c:\\users\\rdrlr\\anaconda3\\envs\\dojo-env\\lib\\site-packages (from tensorflow-datasets->keras-cv==0.6.1) (1.5.1)\n",
      "Requirement already satisfied: numpy in c:\\users\\rdrlr\\anaconda3\\envs\\dojo-env\\lib\\site-packages (from tensorflow-datasets->keras-cv==0.6.1) (1.23.4)\n",
      "Requirement already satisfied: promise in c:\\users\\rdrlr\\anaconda3\\envs\\dojo-env\\lib\\site-packages (from tensorflow-datasets->keras-cv==0.6.1) (2.3)\n",
      "Requirement already satisfied: protobuf>=3.20 in c:\\users\\rdrlr\\anaconda3\\envs\\dojo-env\\lib\\site-packages (from tensorflow-datasets->keras-cv==0.6.1) (4.23.1)\n",
      "Requirement already satisfied: psutil in c:\\users\\rdrlr\\anaconda3\\envs\\dojo-env\\lib\\site-packages (from tensorflow-datasets->keras-cv==0.6.1) (5.9.0)\n",
      "Requirement already satisfied: requests>=2.19.0 in c:\\users\\rdrlr\\anaconda3\\envs\\dojo-env\\lib\\site-packages (from tensorflow-datasets->keras-cv==0.6.1) (2.29.0)\n",
      "Requirement already satisfied: tensorflow-metadata in c:\\users\\rdrlr\\anaconda3\\envs\\dojo-env\\lib\\site-packages (from tensorflow-datasets->keras-cv==0.6.1) (1.13.1)\n",
      "Requirement already satisfied: termcolor in c:\\users\\rdrlr\\anaconda3\\envs\\dojo-env\\lib\\site-packages (from tensorflow-datasets->keras-cv==0.6.1) (2.3.0)\n",
      "Requirement already satisfied: toml in c:\\users\\rdrlr\\anaconda3\\envs\\dojo-env\\lib\\site-packages (from tensorflow-datasets->keras-cv==0.6.1) (0.10.2)\n",
      "Requirement already satisfied: tqdm in c:\\users\\rdrlr\\anaconda3\\envs\\dojo-env\\lib\\site-packages (from tensorflow-datasets->keras-cv==0.6.1) (4.65.0)\n",
      "Requirement already satisfied: wrapt in c:\\users\\rdrlr\\anaconda3\\envs\\dojo-env\\lib\\site-packages (from tensorflow-datasets->keras-cv==0.6.1) (1.14.1)\n",
      "Requirement already satisfied: fsspec in c:\\users\\rdrlr\\anaconda3\\envs\\dojo-env\\lib\\site-packages (from etils[enp,epath,etree]>=0.9.0->tensorflow-datasets->keras-cv==0.6.1) (2023.4.0)\n",
      "Requirement already satisfied: importlib_resources in c:\\users\\rdrlr\\anaconda3\\envs\\dojo-env\\lib\\site-packages (from etils[enp,epath,etree]>=0.9.0->tensorflow-datasets->keras-cv==0.6.1) (6.0.0)\n",
      "Requirement already satisfied: typing_extensions in c:\\users\\rdrlr\\anaconda3\\envs\\dojo-env\\lib\\site-packages (from etils[enp,epath,etree]>=0.9.0->tensorflow-datasets->keras-cv==0.6.1) (4.5.0)\n",
      "Requirement already satisfied: zipp in c:\\users\\rdrlr\\anaconda3\\envs\\dojo-env\\lib\\site-packages (from etils[enp,epath,etree]>=0.9.0->tensorflow-datasets->keras-cv==0.6.1) (3.11.0)\n",
      "Requirement already satisfied: charset-normalizer<4,>=2 in c:\\users\\rdrlr\\anaconda3\\envs\\dojo-env\\lib\\site-packages (from requests>=2.19.0->tensorflow-datasets->keras-cv==0.6.1) (2.0.4)\n",
      "Requirement already satisfied: idna<4,>=2.5 in c:\\users\\rdrlr\\anaconda3\\envs\\dojo-env\\lib\\site-packages (from requests>=2.19.0->tensorflow-datasets->keras-cv==0.6.1) (3.4)\n",
      "Requirement already satisfied: urllib3<1.27,>=1.21.1 in c:\\users\\rdrlr\\anaconda3\\envs\\dojo-env\\lib\\site-packages (from requests>=2.19.0->tensorflow-datasets->keras-cv==0.6.1) (1.26.15)\n",
      "Requirement already satisfied: certifi>=2017.4.17 in c:\\users\\rdrlr\\anaconda3\\envs\\dojo-env\\lib\\site-packages (from requests>=2.19.0->tensorflow-datasets->keras-cv==0.6.1) (2023.5.7)\n",
      "Requirement already satisfied: colorama in c:\\users\\rdrlr\\anaconda3\\envs\\dojo-env\\lib\\site-packages (from click->tensorflow-datasets->keras-cv==0.6.1) (0.4.6)\n",
      "Requirement already satisfied: six in c:\\users\\rdrlr\\anaconda3\\envs\\dojo-env\\lib\\site-packages (from promise->tensorflow-datasets->keras-cv==0.6.1) (1.16.0)\n",
      "Requirement already satisfied: googleapis-common-protos<2,>=1.52.0 in c:\\users\\rdrlr\\anaconda3\\envs\\dojo-env\\lib\\site-packages (from tensorflow-metadata->tensorflow-datasets->keras-cv==0.6.1) (1.61.0)\n"
     ]
    }
   ],
   "source": [
    "!pip install keras-cv==0.6.1 --user"
   ]
  },
  {
   "cell_type": "code",
   "execution_count": 21,
   "id": "68663807-93f0-4950-92bb-f935a7f94dca",
   "metadata": {},
   "outputs": [
    {
     "name": "stdout",
     "output_type": "stream",
     "text": [
      "Requirement already satisfied: keras-tuner==1.3.5 in c:\\users\\rdrlr\\anaconda3\\envs\\dojo-env\\lib\\site-packages (1.3.5)\n",
      "Requirement already satisfied: packaging in c:\\users\\rdrlr\\anaconda3\\envs\\dojo-env\\lib\\site-packages (from keras-tuner==1.3.5) (23.0)\n",
      "Requirement already satisfied: requests in c:\\users\\rdrlr\\anaconda3\\envs\\dojo-env\\lib\\site-packages (from keras-tuner==1.3.5) (2.29.0)\n",
      "Requirement already satisfied: kt-legacy in c:\\users\\rdrlr\\anaconda3\\envs\\dojo-env\\lib\\site-packages (from keras-tuner==1.3.5) (1.0.5)\n",
      "Requirement already satisfied: charset-normalizer<4,>=2 in c:\\users\\rdrlr\\anaconda3\\envs\\dojo-env\\lib\\site-packages (from requests->keras-tuner==1.3.5) (2.0.4)\n",
      "Requirement already satisfied: idna<4,>=2.5 in c:\\users\\rdrlr\\anaconda3\\envs\\dojo-env\\lib\\site-packages (from requests->keras-tuner==1.3.5) (3.4)\n",
      "Requirement already satisfied: urllib3<1.27,>=1.21.1 in c:\\users\\rdrlr\\anaconda3\\envs\\dojo-env\\lib\\site-packages (from requests->keras-tuner==1.3.5) (1.26.15)\n",
      "Requirement already satisfied: certifi>=2017.4.17 in c:\\users\\rdrlr\\anaconda3\\envs\\dojo-env\\lib\\site-packages (from requests->keras-tuner==1.3.5) (2023.5.7)\n"
     ]
    }
   ],
   "source": [
    "!pip install keras-tuner==1.3.5 --user"
   ]
  },
  {
   "cell_type": "code",
   "execution_count": 22,
   "id": "0bdd4456-c44c-4d4a-b476-0f5430a59018",
   "metadata": {},
   "outputs": [
    {
     "name": "stdout",
     "output_type": "stream",
     "text": [
      "Requirement already satisfied: keras==2.12.0 in c:\\users\\rdrlr\\anaconda3\\envs\\dojo-env\\lib\\site-packages (2.12.0)\n"
     ]
    }
   ],
   "source": [
    "!pip install keras==2.12.0 --user"
   ]
  },
  {
   "cell_type": "code",
   "execution_count": 23,
   "id": "84c0c12f-f750-41ff-995a-928ca767dbe5",
   "metadata": {},
   "outputs": [
    {
     "name": "stdout",
     "output_type": "stream",
     "text": [
      "Requirement already satisfied: korean-lunar-calendar==0.3.1 in c:\\users\\rdrlr\\anaconda3\\envs\\dojo-env\\lib\\site-packages (0.3.1)\n"
     ]
    }
   ],
   "source": [
    "!pip install korean-lunar-calendar==0.3.1 --user"
   ]
  },
  {
   "cell_type": "code",
   "execution_count": 24,
   "id": "84426c65-9e8f-4108-ae0a-67a0bdb46fb5",
   "metadata": {},
   "outputs": [
    {
     "name": "stdout",
     "output_type": "stream",
     "text": [
      "Requirement already satisfied: libclang==16.0.0 in c:\\users\\rdrlr\\anaconda3\\envs\\dojo-env\\lib\\site-packages (16.0.0)\n"
     ]
    }
   ],
   "source": [
    "!pip install libclang==16.0.0 --user"
   ]
  },
  {
   "cell_type": "code",
   "execution_count": 25,
   "id": "cd920cd5-5713-4e88-b955-0f83a0708e3f",
   "metadata": {},
   "outputs": [
    {
     "name": "stdout",
     "output_type": "stream",
     "text": [
      "Requirement already satisfied: lightgbm==3.3.5 in c:\\users\\rdrlr\\anaconda3\\envs\\dojo-env\\lib\\site-packages (3.3.5)\n",
      "Requirement already satisfied: wheel in c:\\users\\rdrlr\\anaconda3\\envs\\dojo-env\\lib\\site-packages (from lightgbm==3.3.5) (0.38.4)\n",
      "Requirement already satisfied: numpy in c:\\users\\rdrlr\\anaconda3\\envs\\dojo-env\\lib\\site-packages (from lightgbm==3.3.5) (1.23.4)\n",
      "Requirement already satisfied: scipy in c:\\users\\rdrlr\\anaconda3\\envs\\dojo-env\\lib\\site-packages (from lightgbm==3.3.5) (1.10.1)\n",
      "Requirement already satisfied: scikit-learn!=0.22.0 in c:\\users\\rdrlr\\anaconda3\\envs\\dojo-env\\lib\\site-packages (from lightgbm==3.3.5) (1.2.2)\n",
      "Requirement already satisfied: joblib>=1.1.1 in c:\\users\\rdrlr\\anaconda3\\envs\\dojo-env\\lib\\site-packages (from scikit-learn!=0.22.0->lightgbm==3.3.5) (1.1.1)\n",
      "Requirement already satisfied: threadpoolctl>=2.0.0 in c:\\users\\rdrlr\\anaconda3\\envs\\dojo-env\\lib\\site-packages (from scikit-learn!=0.22.0->lightgbm==3.3.5) (2.2.0)\n"
     ]
    }
   ],
   "source": [
    "!pip install lightgbm==3.3.5 --user"
   ]
  },
  {
   "cell_type": "code",
   "execution_count": 26,
   "id": "5bdd5c61-b3f5-4bc5-944e-342ef2c2edf4",
   "metadata": {},
   "outputs": [
    {
     "name": "stdout",
     "output_type": "stream",
     "text": [
      "Requirement already satisfied: markdown==3.4.3 in c:\\users\\rdrlr\\anaconda3\\envs\\dojo-env\\lib\\site-packages (3.4.3)\n"
     ]
    }
   ],
   "source": [
    "!pip install markdown==3.4.3 --user"
   ]
  },
  {
   "cell_type": "code",
   "execution_count": 27,
   "id": "2ec5ee5d-f036-43b9-808d-c1b4fa3965aa",
   "metadata": {},
   "outputs": [
    {
     "name": "stdout",
     "output_type": "stream",
     "text": [
      "Requirement already satisfied: missingno==0.5.2 in c:\\users\\rdrlr\\anaconda3\\envs\\dojo-env\\lib\\site-packages (0.5.2)\n",
      "Requirement already satisfied: numpy in c:\\users\\rdrlr\\anaconda3\\envs\\dojo-env\\lib\\site-packages (from missingno==0.5.2) (1.23.4)\n",
      "Requirement already satisfied: matplotlib in c:\\users\\rdrlr\\anaconda3\\envs\\dojo-env\\lib\\site-packages (from missingno==0.5.2) (3.7.1)\n",
      "Requirement already satisfied: scipy in c:\\users\\rdrlr\\anaconda3\\envs\\dojo-env\\lib\\site-packages (from missingno==0.5.2) (1.10.1)\n",
      "Requirement already satisfied: seaborn in c:\\users\\rdrlr\\anaconda3\\envs\\dojo-env\\lib\\site-packages (from missingno==0.5.2) (0.12.2)\n",
      "Requirement already satisfied: contourpy>=1.0.1 in c:\\users\\rdrlr\\anaconda3\\envs\\dojo-env\\lib\\site-packages (from matplotlib->missingno==0.5.2) (1.0.5)\n",
      "Requirement already satisfied: cycler>=0.10 in c:\\users\\rdrlr\\anaconda3\\envs\\dojo-env\\lib\\site-packages (from matplotlib->missingno==0.5.2) (0.11.0)\n",
      "Requirement already satisfied: fonttools>=4.22.0 in c:\\users\\rdrlr\\anaconda3\\envs\\dojo-env\\lib\\site-packages (from matplotlib->missingno==0.5.2) (4.25.0)\n",
      "Requirement already satisfied: kiwisolver>=1.0.1 in c:\\users\\rdrlr\\anaconda3\\envs\\dojo-env\\lib\\site-packages (from matplotlib->missingno==0.5.2) (1.4.4)\n",
      "Requirement already satisfied: packaging>=20.0 in c:\\users\\rdrlr\\anaconda3\\envs\\dojo-env\\lib\\site-packages (from matplotlib->missingno==0.5.2) (23.0)\n",
      "Requirement already satisfied: pillow>=6.2.0 in c:\\users\\rdrlr\\anaconda3\\envs\\dojo-env\\lib\\site-packages (from matplotlib->missingno==0.5.2) (9.4.0)\n",
      "Requirement already satisfied: pyparsing>=2.3.1 in c:\\users\\rdrlr\\anaconda3\\envs\\dojo-env\\lib\\site-packages (from matplotlib->missingno==0.5.2) (3.0.9)\n",
      "Requirement already satisfied: python-dateutil>=2.7 in c:\\users\\rdrlr\\anaconda3\\envs\\dojo-env\\lib\\site-packages (from matplotlib->missingno==0.5.2) (2.8.2)\n",
      "Requirement already satisfied: pandas>=0.25 in c:\\users\\rdrlr\\anaconda3\\envs\\dojo-env\\lib\\site-packages (from seaborn->missingno==0.5.2) (1.5.3)\n",
      "Requirement already satisfied: pytz>=2020.1 in c:\\users\\rdrlr\\anaconda3\\envs\\dojo-env\\lib\\site-packages (from pandas>=0.25->seaborn->missingno==0.5.2) (2022.7.1)\n",
      "Requirement already satisfied: six>=1.5 in c:\\users\\rdrlr\\anaconda3\\envs\\dojo-env\\lib\\site-packages (from python-dateutil>=2.7->matplotlib->missingno==0.5.2) (1.16.0)\n"
     ]
    }
   ],
   "source": [
    "!pip install missingno==0.5.2 --user"
   ]
  },
  {
   "cell_type": "code",
   "execution_count": 28,
   "id": "79de486a-a247-4c7d-ad47-967c99913e5f",
   "metadata": {},
   "outputs": [
    {
     "name": "stdout",
     "output_type": "stream",
     "text": [
      "Requirement already satisfied: ml-dtypes==0.1.0 in c:\\users\\rdrlr\\anaconda3\\envs\\dojo-env\\lib\\site-packages (0.1.0)\n",
      "Requirement already satisfied: numpy>1.20 in c:\\users\\rdrlr\\anaconda3\\envs\\dojo-env\\lib\\site-packages (from ml-dtypes==0.1.0) (1.23.4)\n"
     ]
    }
   ],
   "source": [
    "!pip install ml-dtypes==0.1.0 --user"
   ]
  },
  {
   "cell_type": "code",
   "execution_count": 29,
   "id": "3f245d0f-9eec-4b3e-98ae-5a0ecd96e4fd",
   "metadata": {},
   "outputs": [
    {
     "name": "stdout",
     "output_type": "stream",
     "text": [
      "Requirement already satisfied: mlxtend==0.22.0 in c:\\users\\rdrlr\\anaconda3\\envs\\dojo-env\\lib\\site-packages (0.22.0)\n",
      "Requirement already satisfied: scipy>=1.2.1 in c:\\users\\rdrlr\\anaconda3\\envs\\dojo-env\\lib\\site-packages (from mlxtend==0.22.0) (1.10.1)\n",
      "Requirement already satisfied: numpy>=1.16.2 in c:\\users\\rdrlr\\anaconda3\\envs\\dojo-env\\lib\\site-packages (from mlxtend==0.22.0) (1.23.4)\n",
      "Requirement already satisfied: pandas>=0.24.2 in c:\\users\\rdrlr\\anaconda3\\envs\\dojo-env\\lib\\site-packages (from mlxtend==0.22.0) (1.5.3)\n",
      "Requirement already satisfied: scikit-learn>=1.0.2 in c:\\users\\rdrlr\\anaconda3\\envs\\dojo-env\\lib\\site-packages (from mlxtend==0.22.0) (1.2.2)\n",
      "Requirement already satisfied: matplotlib>=3.0.0 in c:\\users\\rdrlr\\anaconda3\\envs\\dojo-env\\lib\\site-packages (from mlxtend==0.22.0) (3.7.1)\n",
      "Requirement already satisfied: joblib>=0.13.2 in c:\\users\\rdrlr\\anaconda3\\envs\\dojo-env\\lib\\site-packages (from mlxtend==0.22.0) (1.1.1)\n",
      "Requirement already satisfied: setuptools in c:\\users\\rdrlr\\anaconda3\\envs\\dojo-env\\lib\\site-packages (from mlxtend==0.22.0) (66.0.0)\n",
      "Requirement already satisfied: contourpy>=1.0.1 in c:\\users\\rdrlr\\anaconda3\\envs\\dojo-env\\lib\\site-packages (from matplotlib>=3.0.0->mlxtend==0.22.0) (1.0.5)\n",
      "Requirement already satisfied: cycler>=0.10 in c:\\users\\rdrlr\\anaconda3\\envs\\dojo-env\\lib\\site-packages (from matplotlib>=3.0.0->mlxtend==0.22.0) (0.11.0)\n",
      "Requirement already satisfied: fonttools>=4.22.0 in c:\\users\\rdrlr\\anaconda3\\envs\\dojo-env\\lib\\site-packages (from matplotlib>=3.0.0->mlxtend==0.22.0) (4.25.0)\n",
      "Requirement already satisfied: kiwisolver>=1.0.1 in c:\\users\\rdrlr\\anaconda3\\envs\\dojo-env\\lib\\site-packages (from matplotlib>=3.0.0->mlxtend==0.22.0) (1.4.4)\n",
      "Requirement already satisfied: packaging>=20.0 in c:\\users\\rdrlr\\anaconda3\\envs\\dojo-env\\lib\\site-packages (from matplotlib>=3.0.0->mlxtend==0.22.0) (23.0)\n",
      "Requirement already satisfied: pillow>=6.2.0 in c:\\users\\rdrlr\\anaconda3\\envs\\dojo-env\\lib\\site-packages (from matplotlib>=3.0.0->mlxtend==0.22.0) (9.4.0)\n",
      "Requirement already satisfied: pyparsing>=2.3.1 in c:\\users\\rdrlr\\anaconda3\\envs\\dojo-env\\lib\\site-packages (from matplotlib>=3.0.0->mlxtend==0.22.0) (3.0.9)\n",
      "Requirement already satisfied: python-dateutil>=2.7 in c:\\users\\rdrlr\\anaconda3\\envs\\dojo-env\\lib\\site-packages (from matplotlib>=3.0.0->mlxtend==0.22.0) (2.8.2)\n",
      "Requirement already satisfied: pytz>=2020.1 in c:\\users\\rdrlr\\anaconda3\\envs\\dojo-env\\lib\\site-packages (from pandas>=0.24.2->mlxtend==0.22.0) (2022.7.1)\n",
      "Requirement already satisfied: threadpoolctl>=2.0.0 in c:\\users\\rdrlr\\anaconda3\\envs\\dojo-env\\lib\\site-packages (from scikit-learn>=1.0.2->mlxtend==0.22.0) (2.2.0)\n",
      "Requirement already satisfied: six>=1.5 in c:\\users\\rdrlr\\anaconda3\\envs\\dojo-env\\lib\\site-packages (from python-dateutil>=2.7->matplotlib>=3.0.0->mlxtend==0.22.0) (1.16.0)\n"
     ]
    }
   ],
   "source": [
    "!pip install mlxtend==0.22.0 --user"
   ]
  },
  {
   "cell_type": "code",
   "execution_count": 30,
   "id": "facaec4b-96b4-4318-b57a-2b752ac33835",
   "metadata": {},
   "outputs": [
    {
     "name": "stdout",
     "output_type": "stream",
     "text": [
      "Requirement already satisfied: multitasking==0.0.11 in c:\\users\\rdrlr\\anaconda3\\envs\\dojo-env\\lib\\site-packages (0.0.11)\n"
     ]
    }
   ],
   "source": [
    "!pip install multitasking==0.0.11 --user"
   ]
  },
  {
   "cell_type": "code",
   "execution_count": 31,
   "id": "d0bda881-06c0-4420-87ef-a288cfea0ef5",
   "metadata": {},
   "outputs": [
    {
     "name": "stdout",
     "output_type": "stream",
     "text": [
      "Requirement already satisfied: mypy-extensions==1.0.0 in c:\\users\\rdrlr\\anaconda3\\envs\\dojo-env\\lib\\site-packages (1.0.0)\n"
     ]
    }
   ],
   "source": [
    "!pip install mypy-extensions==1.0.0 --user"
   ]
  },
  {
   "cell_type": "code",
   "execution_count": 32,
   "id": "82d320c1-befd-485e-bade-8f1979e76d2f",
   "metadata": {},
   "outputs": [
    {
     "name": "stdout",
     "output_type": "stream",
     "text": [
      "Requirement already satisfied: oauthlib==3.2.2 in c:\\users\\rdrlr\\anaconda3\\envs\\dojo-env\\lib\\site-packages (3.2.2)\n"
     ]
    }
   ],
   "source": [
    "!pip install oauthlib==3.2.2 --user"
   ]
  },
  {
   "cell_type": "code",
   "execution_count": 33,
   "id": "a7ab1ef7-0145-4ad2-b564-0cc61ff6f426",
   "metadata": {},
   "outputs": [
    {
     "name": "stdout",
     "output_type": "stream",
     "text": [
      "Requirement already satisfied: opencv-python==4.8.0.74 in c:\\users\\rdrlr\\anaconda3\\envs\\dojo-env\\lib\\site-packages (4.8.0.74)\n",
      "Requirement already satisfied: numpy>=1.21.2 in c:\\users\\rdrlr\\anaconda3\\envs\\dojo-env\\lib\\site-packages (from opencv-python==4.8.0.74) (1.23.4)\n"
     ]
    }
   ],
   "source": [
    "!pip install opencv-python==4.8.0.74 --user"
   ]
  },
  {
   "cell_type": "code",
   "execution_count": 34,
   "id": "112cf3c5-9e19-40b7-804e-981092805029",
   "metadata": {},
   "outputs": [
    {
     "name": "stdout",
     "output_type": "stream",
     "text": [
      "Requirement already satisfied: openpyxl==3.1.2 in c:\\users\\rdrlr\\anaconda3\\envs\\dojo-env\\lib\\site-packages (3.1.2)\n",
      "Requirement already satisfied: et-xmlfile in c:\\users\\rdrlr\\anaconda3\\envs\\dojo-env\\lib\\site-packages (from openpyxl==3.1.2) (1.1.0)\n"
     ]
    }
   ],
   "source": [
    "!pip install openpyxl==3.1.2 --user"
   ]
  },
  {
   "cell_type": "code",
   "execution_count": 35,
   "id": "6bb6fa69-f3bb-47fc-aaf2-3b4945cc8d9e",
   "metadata": {},
   "outputs": [
    {
     "name": "stdout",
     "output_type": "stream",
     "text": [
      "Requirement already satisfied: opt-einsum==3.3.0 in c:\\users\\rdrlr\\anaconda3\\envs\\dojo-env\\lib\\site-packages (3.3.0)\n",
      "Requirement already satisfied: numpy>=1.7 in c:\\users\\rdrlr\\anaconda3\\envs\\dojo-env\\lib\\site-packages (from opt-einsum==3.3.0) (1.23.4)\n"
     ]
    }
   ],
   "source": [
    "!pip install opt-einsum==3.3.0 --user"
   ]
  },
  {
   "cell_type": "code",
   "execution_count": 36,
   "id": "b53dbdcc-12e2-4e09-b8b4-0885d4886c5a",
   "metadata": {},
   "outputs": [
    {
     "name": "stdout",
     "output_type": "stream",
     "text": [
      "Requirement already satisfied: outcome==1.2.0 in c:\\users\\rdrlr\\anaconda3\\envs\\dojo-env\\lib\\site-packages (1.2.0)\n",
      "Requirement already satisfied: attrs>=19.2.0 in c:\\users\\rdrlr\\anaconda3\\envs\\dojo-env\\lib\\site-packages (from outcome==1.2.0) (22.1.0)\n"
     ]
    }
   ],
   "source": [
    "!pip install outcome==1.2.0 --user"
   ]
  },
  {
   "cell_type": "code",
   "execution_count": 37,
   "id": "a3b90324-91f8-4c1b-8d93-7c654719eec1",
   "metadata": {},
   "outputs": [
    {
     "name": "stdout",
     "output_type": "stream",
     "text": [
      "Requirement already satisfied: pathspec==0.11.1 in c:\\users\\rdrlr\\anaconda3\\envs\\dojo-env\\lib\\site-packages (0.11.1)\n"
     ]
    }
   ],
   "source": [
    "!pip install pathspec==0.11.1 --user"
   ]
  },
  {
   "cell_type": "code",
   "execution_count": 38,
   "id": "360f601b-a304-47b3-aa29-11bd06809aa1",
   "metadata": {},
   "outputs": [
    {
     "name": "stdout",
     "output_type": "stream",
     "text": [
      "Requirement already satisfied: plot-keras-history==1.1.38 in c:\\users\\rdrlr\\anaconda3\\envs\\dojo-env\\lib\\site-packages (1.1.38)\n",
      "Requirement already satisfied: matplotlib in c:\\users\\rdrlr\\anaconda3\\envs\\dojo-env\\lib\\site-packages (from plot-keras-history==1.1.38) (3.7.1)\n",
      "Requirement already satisfied: pandas in c:\\users\\rdrlr\\anaconda3\\envs\\dojo-env\\lib\\site-packages (from plot-keras-history==1.1.38) (1.5.3)\n",
      "Requirement already satisfied: scipy in c:\\users\\rdrlr\\anaconda3\\envs\\dojo-env\\lib\\site-packages (from plot-keras-history==1.1.38) (1.10.1)\n",
      "Requirement already satisfied: support-developer>=1.0.2 in c:\\users\\rdrlr\\anaconda3\\envs\\dojo-env\\lib\\site-packages (from plot-keras-history==1.1.38) (1.0.5)\n",
      "Requirement already satisfied: sanitize-ml-labels>=1.0.48 in c:\\users\\rdrlr\\anaconda3\\envs\\dojo-env\\lib\\site-packages (from plot-keras-history==1.1.38) (1.0.51)\n",
      "Requirement already satisfied: compress-json in c:\\users\\rdrlr\\anaconda3\\envs\\dojo-env\\lib\\site-packages (from sanitize-ml-labels>=1.0.48->plot-keras-history==1.1.38) (1.0.8)\n",
      "Requirement already satisfied: contourpy>=1.0.1 in c:\\users\\rdrlr\\anaconda3\\envs\\dojo-env\\lib\\site-packages (from matplotlib->plot-keras-history==1.1.38) (1.0.5)\n",
      "Requirement already satisfied: cycler>=0.10 in c:\\users\\rdrlr\\anaconda3\\envs\\dojo-env\\lib\\site-packages (from matplotlib->plot-keras-history==1.1.38) (0.11.0)\n",
      "Requirement already satisfied: fonttools>=4.22.0 in c:\\users\\rdrlr\\anaconda3\\envs\\dojo-env\\lib\\site-packages (from matplotlib->plot-keras-history==1.1.38) (4.25.0)\n",
      "Requirement already satisfied: kiwisolver>=1.0.1 in c:\\users\\rdrlr\\anaconda3\\envs\\dojo-env\\lib\\site-packages (from matplotlib->plot-keras-history==1.1.38) (1.4.4)\n",
      "Requirement already satisfied: numpy>=1.20 in c:\\users\\rdrlr\\anaconda3\\envs\\dojo-env\\lib\\site-packages (from matplotlib->plot-keras-history==1.1.38) (1.23.4)\n",
      "Requirement already satisfied: packaging>=20.0 in c:\\users\\rdrlr\\anaconda3\\envs\\dojo-env\\lib\\site-packages (from matplotlib->plot-keras-history==1.1.38) (23.0)\n",
      "Requirement already satisfied: pillow>=6.2.0 in c:\\users\\rdrlr\\anaconda3\\envs\\dojo-env\\lib\\site-packages (from matplotlib->plot-keras-history==1.1.38) (9.4.0)\n",
      "Requirement already satisfied: pyparsing>=2.3.1 in c:\\users\\rdrlr\\anaconda3\\envs\\dojo-env\\lib\\site-packages (from matplotlib->plot-keras-history==1.1.38) (3.0.9)\n",
      "Requirement already satisfied: python-dateutil>=2.7 in c:\\users\\rdrlr\\anaconda3\\envs\\dojo-env\\lib\\site-packages (from matplotlib->plot-keras-history==1.1.38) (2.8.2)\n",
      "Requirement already satisfied: pytz>=2020.1 in c:\\users\\rdrlr\\anaconda3\\envs\\dojo-env\\lib\\site-packages (from pandas->plot-keras-history==1.1.38) (2022.7.1)\n",
      "Requirement already satisfied: six>=1.5 in c:\\users\\rdrlr\\anaconda3\\envs\\dojo-env\\lib\\site-packages (from python-dateutil>=2.7->matplotlib->plot-keras-history==1.1.38) (1.16.0)\n"
     ]
    }
   ],
   "source": [
    "!pip install plot-keras-history==1.1.38 --user"
   ]
  },
  {
   "cell_type": "code",
   "execution_count": 39,
   "id": "aa7d8bc0-7528-4a8a-9b42-49e27caeab31",
   "metadata": {},
   "outputs": [
    {
     "name": "stdout",
     "output_type": "stream",
     "text": [
      "Requirement already satisfied: protobuf==4.23.1 in c:\\users\\rdrlr\\anaconda3\\envs\\dojo-env\\lib\\site-packages (4.23.1)\n"
     ]
    }
   ],
   "source": [
    "!pip install protobuf==4.23.1 --user"
   ]
  },
  {
   "cell_type": "code",
   "execution_count": 40,
   "id": "1f02d17b-4402-4e53-b0c0-6fe0eb7b8011",
   "metadata": {},
   "outputs": [
    {
     "name": "stdout",
     "output_type": "stream",
     "text": [
      "Requirement already satisfied: pyasn1-modules==0.3.0 in c:\\users\\rdrlr\\anaconda3\\envs\\dojo-env\\lib\\site-packages (0.3.0)\n",
      "Requirement already satisfied: pyasn1<0.6.0,>=0.4.6 in c:\\users\\rdrlr\\anaconda3\\envs\\dojo-env\\lib\\site-packages (from pyasn1-modules==0.3.0) (0.5.0)\n"
     ]
    }
   ],
   "source": [
    "!pip install pyasn1-modules==0.3.0 --user"
   ]
  },
  {
   "cell_type": "code",
   "execution_count": 41,
   "id": "9888f415-bd27-497d-a5f8-25907de22b5b",
   "metadata": {},
   "outputs": [
    {
     "name": "stdout",
     "output_type": "stream",
     "text": [
      "Requirement already satisfied: pyasn1==0.5.0 in c:\\users\\rdrlr\\anaconda3\\envs\\dojo-env\\lib\\site-packages (0.5.0)\n"
     ]
    }
   ],
   "source": [
    "!pip install pyasn1==0.5.0 --user"
   ]
  },
  {
   "cell_type": "code",
   "execution_count": 42,
   "id": "004c4a7e-2c0a-41cc-9468-4d7ca5cae4e3",
   "metadata": {},
   "outputs": [
    {
     "name": "stdout",
     "output_type": "stream",
     "text": [
      "Requirement already satisfied: pycodestyle==2.10.0 in c:\\users\\rdrlr\\anaconda3\\envs\\dojo-env\\lib\\site-packages (2.10.0)\n"
     ]
    }
   ],
   "source": [
    "!pip install pycodestyle==2.10.0 --user"
   ]
  },
  {
   "cell_type": "code",
   "execution_count": 43,
   "id": "1eaf1265-796d-479c-a13f-61d63054313e",
   "metadata": {},
   "outputs": [
    {
     "name": "stdout",
     "output_type": "stream",
     "text": [
      "Requirement already satisfied: requests-oauthlib==1.3.1 in c:\\users\\rdrlr\\anaconda3\\envs\\dojo-env\\lib\\site-packages (1.3.1)\n",
      "Requirement already satisfied: oauthlib>=3.0.0 in c:\\users\\rdrlr\\anaconda3\\envs\\dojo-env\\lib\\site-packages (from requests-oauthlib==1.3.1) (3.2.2)\n",
      "Requirement already satisfied: requests>=2.0.0 in c:\\users\\rdrlr\\anaconda3\\envs\\dojo-env\\lib\\site-packages (from requests-oauthlib==1.3.1) (2.29.0)\n",
      "Requirement already satisfied: charset-normalizer<4,>=2 in c:\\users\\rdrlr\\anaconda3\\envs\\dojo-env\\lib\\site-packages (from requests>=2.0.0->requests-oauthlib==1.3.1) (2.0.4)\n",
      "Requirement already satisfied: idna<4,>=2.5 in c:\\users\\rdrlr\\anaconda3\\envs\\dojo-env\\lib\\site-packages (from requests>=2.0.0->requests-oauthlib==1.3.1) (3.4)\n",
      "Requirement already satisfied: urllib3<1.27,>=1.21.1 in c:\\users\\rdrlr\\anaconda3\\envs\\dojo-env\\lib\\site-packages (from requests>=2.0.0->requests-oauthlib==1.3.1) (1.26.15)\n",
      "Requirement already satisfied: certifi>=2017.4.17 in c:\\users\\rdrlr\\anaconda3\\envs\\dojo-env\\lib\\site-packages (from requests>=2.0.0->requests-oauthlib==1.3.1) (2023.5.7)\n"
     ]
    }
   ],
   "source": [
    "!pip install requests-oauthlib==1.3.1 --user"
   ]
  },
  {
   "cell_type": "code",
   "execution_count": 44,
   "id": "b6edab8f-02e3-4436-9cd0-595dad1f1655",
   "metadata": {},
   "outputs": [
    {
     "name": "stdout",
     "output_type": "stream",
     "text": [
      "Requirement already satisfied: rsa==4.9 in c:\\users\\rdrlr\\anaconda3\\envs\\dojo-env\\lib\\site-packages (4.9)\n",
      "Requirement already satisfied: pyasn1>=0.1.3 in c:\\users\\rdrlr\\anaconda3\\envs\\dojo-env\\lib\\site-packages (from rsa==4.9) (0.5.0)\n"
     ]
    }
   ],
   "source": [
    "!pip install rsa==4.9 --user"
   ]
  },
  {
   "cell_type": "code",
   "execution_count": 45,
   "id": "307bba1f-1956-42d6-b7e4-c046ca6a9caa",
   "metadata": {},
   "outputs": [
    {
     "name": "stdout",
     "output_type": "stream",
     "text": [
      "Requirement already satisfied: scikeras==0.11.0 in c:\\users\\rdrlr\\anaconda3\\envs\\dojo-env\\lib\\site-packages (0.11.0)\n",
      "Requirement already satisfied: packaging>=0.21 in c:\\users\\rdrlr\\anaconda3\\envs\\dojo-env\\lib\\site-packages (from scikeras==0.11.0) (23.0)\n",
      "Requirement already satisfied: scikit-learn>=1.0.0 in c:\\users\\rdrlr\\anaconda3\\envs\\dojo-env\\lib\\site-packages (from scikeras==0.11.0) (1.2.2)\n",
      "Requirement already satisfied: tensorflow-io-gcs-filesystem<0.32,>=0.23.1 in c:\\users\\rdrlr\\anaconda3\\envs\\dojo-env\\lib\\site-packages (from scikeras==0.11.0) (0.31.0)\n",
      "Requirement already satisfied: numpy>=1.17.3 in c:\\users\\rdrlr\\anaconda3\\envs\\dojo-env\\lib\\site-packages (from scikit-learn>=1.0.0->scikeras==0.11.0) (1.23.4)\n",
      "Requirement already satisfied: scipy>=1.3.2 in c:\\users\\rdrlr\\anaconda3\\envs\\dojo-env\\lib\\site-packages (from scikit-learn>=1.0.0->scikeras==0.11.0) (1.10.1)\n",
      "Requirement already satisfied: joblib>=1.1.1 in c:\\users\\rdrlr\\anaconda3\\envs\\dojo-env\\lib\\site-packages (from scikit-learn>=1.0.0->scikeras==0.11.0) (1.1.1)\n",
      "Requirement already satisfied: threadpoolctl>=2.0.0 in c:\\users\\rdrlr\\anaconda3\\envs\\dojo-env\\lib\\site-packages (from scikit-learn>=1.0.0->scikeras==0.11.0) (2.2.0)\n"
     ]
    }
   ],
   "source": [
    "!pip install scikeras==0.11.0 --user"
   ]
  },
  {
   "cell_type": "code",
   "execution_count": 46,
   "id": "79647b1b-a05e-4633-973c-8e046e25f0dc",
   "metadata": {},
   "outputs": [
    {
     "name": "stdout",
     "output_type": "stream",
     "text": [
      "Requirement already satisfied: selenium==4.10.0 in c:\\users\\rdrlr\\anaconda3\\envs\\dojo-env\\lib\\site-packages (4.10.0)\n",
      "Requirement already satisfied: urllib3[socks]<3,>=1.26 in c:\\users\\rdrlr\\anaconda3\\envs\\dojo-env\\lib\\site-packages (from selenium==4.10.0) (1.26.15)\n",
      "Requirement already satisfied: trio~=0.17 in c:\\users\\rdrlr\\anaconda3\\envs\\dojo-env\\lib\\site-packages (from selenium==4.10.0) (0.22.2)\n",
      "Requirement already satisfied: trio-websocket~=0.9 in c:\\users\\rdrlr\\anaconda3\\envs\\dojo-env\\lib\\site-packages (from selenium==4.10.0) (0.10.3)\n",
      "Requirement already satisfied: certifi>=2021.10.8 in c:\\users\\rdrlr\\anaconda3\\envs\\dojo-env\\lib\\site-packages (from selenium==4.10.0) (2023.5.7)\n",
      "Requirement already satisfied: attrs>=20.1.0 in c:\\users\\rdrlr\\anaconda3\\envs\\dojo-env\\lib\\site-packages (from trio~=0.17->selenium==4.10.0) (22.1.0)\n",
      "Requirement already satisfied: sortedcontainers in c:\\users\\rdrlr\\anaconda3\\envs\\dojo-env\\lib\\site-packages (from trio~=0.17->selenium==4.10.0) (2.4.0)\n",
      "Requirement already satisfied: idna in c:\\users\\rdrlr\\anaconda3\\envs\\dojo-env\\lib\\site-packages (from trio~=0.17->selenium==4.10.0) (3.4)\n",
      "Requirement already satisfied: outcome in c:\\users\\rdrlr\\anaconda3\\envs\\dojo-env\\lib\\site-packages (from trio~=0.17->selenium==4.10.0) (1.2.0)\n",
      "Requirement already satisfied: sniffio in c:\\users\\rdrlr\\anaconda3\\envs\\dojo-env\\lib\\site-packages (from trio~=0.17->selenium==4.10.0) (1.2.0)\n",
      "Requirement already satisfied: cffi>=1.14 in c:\\users\\rdrlr\\anaconda3\\envs\\dojo-env\\lib\\site-packages (from trio~=0.17->selenium==4.10.0) (1.15.1)\n",
      "Requirement already satisfied: exceptiongroup>=1.0.0rc9 in c:\\users\\rdrlr\\anaconda3\\envs\\dojo-env\\lib\\site-packages (from trio~=0.17->selenium==4.10.0) (1.1.2)\n",
      "Requirement already satisfied: wsproto>=0.14 in c:\\users\\rdrlr\\anaconda3\\envs\\dojo-env\\lib\\site-packages (from trio-websocket~=0.9->selenium==4.10.0) (1.2.0)\n",
      "Requirement already satisfied: PySocks!=1.5.7,<2.0,>=1.5.6 in c:\\users\\rdrlr\\anaconda3\\envs\\dojo-env\\lib\\site-packages (from urllib3[socks]<3,>=1.26->selenium==4.10.0) (1.7.1)\n",
      "Requirement already satisfied: pycparser in c:\\users\\rdrlr\\anaconda3\\envs\\dojo-env\\lib\\site-packages (from cffi>=1.14->trio~=0.17->selenium==4.10.0) (2.21)\n",
      "Requirement already satisfied: h11<1,>=0.9.0 in c:\\users\\rdrlr\\anaconda3\\envs\\dojo-env\\lib\\site-packages (from wsproto>=0.14->trio-websocket~=0.9->selenium==4.10.0) (0.14.0)\n"
     ]
    }
   ],
   "source": [
    "!pip install selenium==4.10.0 --user"
   ]
  },
  {
   "cell_type": "code",
   "execution_count": 47,
   "id": "d7dfb9ae-db22-4384-900e-155ddcd584cb",
   "metadata": {},
   "outputs": [
    {
     "name": "stdout",
     "output_type": "stream",
     "text": [
      "Requirement already satisfied: sortedcontainers==2.4.0 in c:\\users\\rdrlr\\anaconda3\\envs\\dojo-env\\lib\\site-packages (2.4.0)\n"
     ]
    }
   ],
   "source": [
    "!pip install sortedcontainers==2.4.0 --user"
   ]
  },
  {
   "cell_type": "code",
   "execution_count": 48,
   "id": "b4501efb-36e0-4889-9528-601f2b8e53b2",
   "metadata": {},
   "outputs": [
    {
     "name": "stdout",
     "output_type": "stream",
     "text": [
      "Requirement already satisfied: tensorboard-data-server==0.7.0 in c:\\users\\rdrlr\\anaconda3\\envs\\dojo-env\\lib\\site-packages (0.7.0)\n"
     ]
    }
   ],
   "source": [
    "!pip install tensorboard-data-server==0.7.0 --user"
   ]
  },
  {
   "cell_type": "code",
   "execution_count": 49,
   "id": "e68766b0-75ec-4809-ac87-4d712ca33582",
   "metadata": {},
   "outputs": [
    {
     "name": "stdout",
     "output_type": "stream",
     "text": [
      "Requirement already satisfied: tensorboard==2.12.3 in c:\\users\\rdrlr\\anaconda3\\envs\\dojo-env\\lib\\site-packages (2.12.3)\n",
      "Requirement already satisfied: absl-py>=0.4 in c:\\users\\rdrlr\\anaconda3\\envs\\dojo-env\\lib\\site-packages (from tensorboard==2.12.3) (1.4.0)\n",
      "Requirement already satisfied: grpcio>=1.48.2 in c:\\users\\rdrlr\\anaconda3\\envs\\dojo-env\\lib\\site-packages (from tensorboard==2.12.3) (1.59.0)\n",
      "Requirement already satisfied: google-auth<3,>=1.6.3 in c:\\users\\rdrlr\\anaconda3\\envs\\dojo-env\\lib\\site-packages (from tensorboard==2.12.3) (2.18.1)\n",
      "Requirement already satisfied: google-auth-oauthlib<1.1,>=0.5 in c:\\users\\rdrlr\\anaconda3\\envs\\dojo-env\\lib\\site-packages (from tensorboard==2.12.3) (1.0.0)\n",
      "Requirement already satisfied: markdown>=2.6.8 in c:\\users\\rdrlr\\anaconda3\\envs\\dojo-env\\lib\\site-packages (from tensorboard==2.12.3) (3.4.3)\n",
      "Requirement already satisfied: numpy>=1.12.0 in c:\\users\\rdrlr\\anaconda3\\envs\\dojo-env\\lib\\site-packages (from tensorboard==2.12.3) (1.23.4)\n",
      "Requirement already satisfied: protobuf>=3.19.6 in c:\\users\\rdrlr\\anaconda3\\envs\\dojo-env\\lib\\site-packages (from tensorboard==2.12.3) (4.23.1)\n",
      "Requirement already satisfied: requests<3,>=2.21.0 in c:\\users\\rdrlr\\anaconda3\\envs\\dojo-env\\lib\\site-packages (from tensorboard==2.12.3) (2.29.0)\n",
      "Requirement already satisfied: setuptools>=41.0.0 in c:\\users\\rdrlr\\anaconda3\\envs\\dojo-env\\lib\\site-packages (from tensorboard==2.12.3) (66.0.0)\n",
      "Requirement already satisfied: tensorboard-data-server<0.8.0,>=0.7.0 in c:\\users\\rdrlr\\anaconda3\\envs\\dojo-env\\lib\\site-packages (from tensorboard==2.12.3) (0.7.0)\n",
      "Requirement already satisfied: werkzeug>=1.0.1 in c:\\users\\rdrlr\\anaconda3\\envs\\dojo-env\\lib\\site-packages (from tensorboard==2.12.3) (2.3.4)\n",
      "Requirement already satisfied: wheel>=0.26 in c:\\users\\rdrlr\\anaconda3\\envs\\dojo-env\\lib\\site-packages (from tensorboard==2.12.3) (0.38.4)\n",
      "Requirement already satisfied: cachetools<6.0,>=2.0.0 in c:\\users\\rdrlr\\anaconda3\\envs\\dojo-env\\lib\\site-packages (from google-auth<3,>=1.6.3->tensorboard==2.12.3) (5.3.0)\n",
      "Requirement already satisfied: pyasn1-modules>=0.2.1 in c:\\users\\rdrlr\\anaconda3\\envs\\dojo-env\\lib\\site-packages (from google-auth<3,>=1.6.3->tensorboard==2.12.3) (0.3.0)\n",
      "Requirement already satisfied: six>=1.9.0 in c:\\users\\rdrlr\\anaconda3\\envs\\dojo-env\\lib\\site-packages (from google-auth<3,>=1.6.3->tensorboard==2.12.3) (1.16.0)\n",
      "Requirement already satisfied: urllib3<2.0 in c:\\users\\rdrlr\\anaconda3\\envs\\dojo-env\\lib\\site-packages (from google-auth<3,>=1.6.3->tensorboard==2.12.3) (1.26.15)\n",
      "Requirement already satisfied: rsa<5,>=3.1.4 in c:\\users\\rdrlr\\anaconda3\\envs\\dojo-env\\lib\\site-packages (from google-auth<3,>=1.6.3->tensorboard==2.12.3) (4.9)\n",
      "Requirement already satisfied: requests-oauthlib>=0.7.0 in c:\\users\\rdrlr\\anaconda3\\envs\\dojo-env\\lib\\site-packages (from google-auth-oauthlib<1.1,>=0.5->tensorboard==2.12.3) (1.3.1)\n",
      "Requirement already satisfied: charset-normalizer<4,>=2 in c:\\users\\rdrlr\\anaconda3\\envs\\dojo-env\\lib\\site-packages (from requests<3,>=2.21.0->tensorboard==2.12.3) (2.0.4)\n",
      "Requirement already satisfied: idna<4,>=2.5 in c:\\users\\rdrlr\\anaconda3\\envs\\dojo-env\\lib\\site-packages (from requests<3,>=2.21.0->tensorboard==2.12.3) (3.4)\n",
      "Requirement already satisfied: certifi>=2017.4.17 in c:\\users\\rdrlr\\anaconda3\\envs\\dojo-env\\lib\\site-packages (from requests<3,>=2.21.0->tensorboard==2.12.3) (2023.5.7)\n",
      "Requirement already satisfied: MarkupSafe>=2.1.1 in c:\\users\\rdrlr\\anaconda3\\envs\\dojo-env\\lib\\site-packages (from werkzeug>=1.0.1->tensorboard==2.12.3) (2.1.1)\n",
      "Requirement already satisfied: pyasn1<0.6.0,>=0.4.6 in c:\\users\\rdrlr\\anaconda3\\envs\\dojo-env\\lib\\site-packages (from pyasn1-modules>=0.2.1->google-auth<3,>=1.6.3->tensorboard==2.12.3) (0.5.0)\n",
      "Requirement already satisfied: oauthlib>=3.0.0 in c:\\users\\rdrlr\\anaconda3\\envs\\dojo-env\\lib\\site-packages (from requests-oauthlib>=0.7.0->google-auth-oauthlib<1.1,>=0.5->tensorboard==2.12.3) (3.2.2)\n"
     ]
    }
   ],
   "source": [
    "!pip install tensorboard==2.12.3 --user"
   ]
  },
  {
   "cell_type": "code",
   "execution_count": 50,
   "id": "8c2e40a6-d7ba-4d03-ae41-c71d7e66cd7c",
   "metadata": {},
   "outputs": [
    {
     "name": "stdout",
     "output_type": "stream",
     "text": [
      "Requirement already satisfied: tensorflow-estimator==2.12.0 in c:\\users\\rdrlr\\anaconda3\\envs\\dojo-env\\lib\\site-packages (2.12.0)\n"
     ]
    }
   ],
   "source": [
    "!pip install tensorflow-estimator==2.12.0 --user"
   ]
  },
  {
   "cell_type": "code",
   "execution_count": 51,
   "id": "a0b8e046-85a8-49c7-9f31-4e35bf4a6ad9",
   "metadata": {},
   "outputs": [
    {
     "name": "stdout",
     "output_type": "stream",
     "text": [
      "Requirement already satisfied: tensorflow-intel==2.12.0 in c:\\users\\rdrlr\\anaconda3\\envs\\dojo-env\\lib\\site-packages (2.12.0)\n",
      "Requirement already satisfied: absl-py>=1.0.0 in c:\\users\\rdrlr\\anaconda3\\envs\\dojo-env\\lib\\site-packages (from tensorflow-intel==2.12.0) (1.4.0)\n",
      "Requirement already satisfied: astunparse>=1.6.0 in c:\\users\\rdrlr\\anaconda3\\envs\\dojo-env\\lib\\site-packages (from tensorflow-intel==2.12.0) (1.6.3)\n",
      "Requirement already satisfied: flatbuffers>=2.0 in c:\\users\\rdrlr\\anaconda3\\envs\\dojo-env\\lib\\site-packages (from tensorflow-intel==2.12.0) (23.5.9)\n",
      "Requirement already satisfied: gast<=0.4.0,>=0.2.1 in c:\\users\\rdrlr\\anaconda3\\envs\\dojo-env\\lib\\site-packages (from tensorflow-intel==2.12.0) (0.4.0)\n",
      "Requirement already satisfied: google-pasta>=0.1.1 in c:\\users\\rdrlr\\anaconda3\\envs\\dojo-env\\lib\\site-packages (from tensorflow-intel==2.12.0) (0.2.0)\n",
      "Requirement already satisfied: h5py>=2.9.0 in c:\\users\\rdrlr\\anaconda3\\envs\\dojo-env\\lib\\site-packages (from tensorflow-intel==2.12.0) (3.8.0)\n",
      "Requirement already satisfied: jax>=0.3.15 in c:\\users\\rdrlr\\anaconda3\\envs\\dojo-env\\lib\\site-packages (from tensorflow-intel==2.12.0) (0.4.10)\n",
      "Requirement already satisfied: libclang>=13.0.0 in c:\\users\\rdrlr\\anaconda3\\envs\\dojo-env\\lib\\site-packages (from tensorflow-intel==2.12.0) (16.0.0)\n",
      "Requirement already satisfied: numpy<1.24,>=1.22 in c:\\users\\rdrlr\\anaconda3\\envs\\dojo-env\\lib\\site-packages (from tensorflow-intel==2.12.0) (1.23.4)\n",
      "Requirement already satisfied: opt-einsum>=2.3.2 in c:\\users\\rdrlr\\anaconda3\\envs\\dojo-env\\lib\\site-packages (from tensorflow-intel==2.12.0) (3.3.0)\n",
      "Requirement already satisfied: packaging in c:\\users\\rdrlr\\anaconda3\\envs\\dojo-env\\lib\\site-packages (from tensorflow-intel==2.12.0) (23.0)\n",
      "Requirement already satisfied: protobuf!=4.21.0,!=4.21.1,!=4.21.2,!=4.21.3,!=4.21.4,!=4.21.5,<5.0.0dev,>=3.20.3 in c:\\users\\rdrlr\\anaconda3\\envs\\dojo-env\\lib\\site-packages (from tensorflow-intel==2.12.0) (4.23.1)\n",
      "Requirement already satisfied: setuptools in c:\\users\\rdrlr\\anaconda3\\envs\\dojo-env\\lib\\site-packages (from tensorflow-intel==2.12.0) (66.0.0)\n",
      "Requirement already satisfied: six>=1.12.0 in c:\\users\\rdrlr\\anaconda3\\envs\\dojo-env\\lib\\site-packages (from tensorflow-intel==2.12.0) (1.16.0)\n",
      "Requirement already satisfied: termcolor>=1.1.0 in c:\\users\\rdrlr\\anaconda3\\envs\\dojo-env\\lib\\site-packages (from tensorflow-intel==2.12.0) (2.3.0)\n",
      "Requirement already satisfied: typing-extensions>=3.6.6 in c:\\users\\rdrlr\\anaconda3\\envs\\dojo-env\\lib\\site-packages (from tensorflow-intel==2.12.0) (4.5.0)\n",
      "Requirement already satisfied: wrapt<1.15,>=1.11.0 in c:\\users\\rdrlr\\anaconda3\\envs\\dojo-env\\lib\\site-packages (from tensorflow-intel==2.12.0) (1.14.1)\n",
      "Requirement already satisfied: grpcio<2.0,>=1.24.3 in c:\\users\\rdrlr\\anaconda3\\envs\\dojo-env\\lib\\site-packages (from tensorflow-intel==2.12.0) (1.59.0)\n",
      "Requirement already satisfied: tensorboard<2.13,>=2.12 in c:\\users\\rdrlr\\anaconda3\\envs\\dojo-env\\lib\\site-packages (from tensorflow-intel==2.12.0) (2.12.3)\n",
      "Requirement already satisfied: tensorflow-estimator<2.13,>=2.12.0 in c:\\users\\rdrlr\\anaconda3\\envs\\dojo-env\\lib\\site-packages (from tensorflow-intel==2.12.0) (2.12.0)\n",
      "Requirement already satisfied: keras<2.13,>=2.12.0 in c:\\users\\rdrlr\\anaconda3\\envs\\dojo-env\\lib\\site-packages (from tensorflow-intel==2.12.0) (2.12.0)\n",
      "Requirement already satisfied: tensorflow-io-gcs-filesystem>=0.23.1 in c:\\users\\rdrlr\\anaconda3\\envs\\dojo-env\\lib\\site-packages (from tensorflow-intel==2.12.0) (0.31.0)\n",
      "Requirement already satisfied: wheel<1.0,>=0.23.0 in c:\\users\\rdrlr\\anaconda3\\envs\\dojo-env\\lib\\site-packages (from astunparse>=1.6.0->tensorflow-intel==2.12.0) (0.38.4)\n",
      "Requirement already satisfied: ml-dtypes>=0.1.0 in c:\\users\\rdrlr\\anaconda3\\envs\\dojo-env\\lib\\site-packages (from jax>=0.3.15->tensorflow-intel==2.12.0) (0.1.0)\n",
      "Requirement already satisfied: scipy>=1.7 in c:\\users\\rdrlr\\anaconda3\\envs\\dojo-env\\lib\\site-packages (from jax>=0.3.15->tensorflow-intel==2.12.0) (1.10.1)\n",
      "Requirement already satisfied: google-auth<3,>=1.6.3 in c:\\users\\rdrlr\\anaconda3\\envs\\dojo-env\\lib\\site-packages (from tensorboard<2.13,>=2.12->tensorflow-intel==2.12.0) (2.18.1)\n",
      "Requirement already satisfied: google-auth-oauthlib<1.1,>=0.5 in c:\\users\\rdrlr\\anaconda3\\envs\\dojo-env\\lib\\site-packages (from tensorboard<2.13,>=2.12->tensorflow-intel==2.12.0) (1.0.0)\n",
      "Requirement already satisfied: markdown>=2.6.8 in c:\\users\\rdrlr\\anaconda3\\envs\\dojo-env\\lib\\site-packages (from tensorboard<2.13,>=2.12->tensorflow-intel==2.12.0) (3.4.3)\n",
      "Requirement already satisfied: requests<3,>=2.21.0 in c:\\users\\rdrlr\\anaconda3\\envs\\dojo-env\\lib\\site-packages (from tensorboard<2.13,>=2.12->tensorflow-intel==2.12.0) (2.29.0)\n",
      "Requirement already satisfied: tensorboard-data-server<0.8.0,>=0.7.0 in c:\\users\\rdrlr\\anaconda3\\envs\\dojo-env\\lib\\site-packages (from tensorboard<2.13,>=2.12->tensorflow-intel==2.12.0) (0.7.0)\n",
      "Requirement already satisfied: werkzeug>=1.0.1 in c:\\users\\rdrlr\\anaconda3\\envs\\dojo-env\\lib\\site-packages (from tensorboard<2.13,>=2.12->tensorflow-intel==2.12.0) (2.3.4)\n",
      "Requirement already satisfied: cachetools<6.0,>=2.0.0 in c:\\users\\rdrlr\\anaconda3\\envs\\dojo-env\\lib\\site-packages (from google-auth<3,>=1.6.3->tensorboard<2.13,>=2.12->tensorflow-intel==2.12.0) (5.3.0)\n",
      "Requirement already satisfied: pyasn1-modules>=0.2.1 in c:\\users\\rdrlr\\anaconda3\\envs\\dojo-env\\lib\\site-packages (from google-auth<3,>=1.6.3->tensorboard<2.13,>=2.12->tensorflow-intel==2.12.0) (0.3.0)\n",
      "Requirement already satisfied: urllib3<2.0 in c:\\users\\rdrlr\\anaconda3\\envs\\dojo-env\\lib\\site-packages (from google-auth<3,>=1.6.3->tensorboard<2.13,>=2.12->tensorflow-intel==2.12.0) (1.26.15)\n",
      "Requirement already satisfied: rsa<5,>=3.1.4 in c:\\users\\rdrlr\\anaconda3\\envs\\dojo-env\\lib\\site-packages (from google-auth<3,>=1.6.3->tensorboard<2.13,>=2.12->tensorflow-intel==2.12.0) (4.9)\n",
      "Requirement already satisfied: requests-oauthlib>=0.7.0 in c:\\users\\rdrlr\\anaconda3\\envs\\dojo-env\\lib\\site-packages (from google-auth-oauthlib<1.1,>=0.5->tensorboard<2.13,>=2.12->tensorflow-intel==2.12.0) (1.3.1)\n",
      "Requirement already satisfied: charset-normalizer<4,>=2 in c:\\users\\rdrlr\\anaconda3\\envs\\dojo-env\\lib\\site-packages (from requests<3,>=2.21.0->tensorboard<2.13,>=2.12->tensorflow-intel==2.12.0) (2.0.4)\n",
      "Requirement already satisfied: idna<4,>=2.5 in c:\\users\\rdrlr\\anaconda3\\envs\\dojo-env\\lib\\site-packages (from requests<3,>=2.21.0->tensorboard<2.13,>=2.12->tensorflow-intel==2.12.0) (3.4)\n",
      "Requirement already satisfied: certifi>=2017.4.17 in c:\\users\\rdrlr\\anaconda3\\envs\\dojo-env\\lib\\site-packages (from requests<3,>=2.21.0->tensorboard<2.13,>=2.12->tensorflow-intel==2.12.0) (2023.5.7)\n",
      "Requirement already satisfied: MarkupSafe>=2.1.1 in c:\\users\\rdrlr\\anaconda3\\envs\\dojo-env\\lib\\site-packages (from werkzeug>=1.0.1->tensorboard<2.13,>=2.12->tensorflow-intel==2.12.0) (2.1.1)\n",
      "Requirement already satisfied: pyasn1<0.6.0,>=0.4.6 in c:\\users\\rdrlr\\anaconda3\\envs\\dojo-env\\lib\\site-packages (from pyasn1-modules>=0.2.1->google-auth<3,>=1.6.3->tensorboard<2.13,>=2.12->tensorflow-intel==2.12.0) (0.5.0)\n",
      "Requirement already satisfied: oauthlib>=3.0.0 in c:\\users\\rdrlr\\anaconda3\\envs\\dojo-env\\lib\\site-packages (from requests-oauthlib>=0.7.0->google-auth-oauthlib<1.1,>=0.5->tensorboard<2.13,>=2.12->tensorflow-intel==2.12.0) (3.2.2)\n"
     ]
    }
   ],
   "source": [
    "!pip install tensorflow-intel==2.12.0 --user"
   ]
  },
  {
   "cell_type": "code",
   "execution_count": 52,
   "id": "26df01f4-e82d-4dea-b6dd-02a1694ae2ed",
   "metadata": {},
   "outputs": [
    {
     "name": "stdout",
     "output_type": "stream",
     "text": [
      "Requirement already satisfied: tensorflow-io-gcs-filesystem==0.31.0 in c:\\users\\rdrlr\\anaconda3\\envs\\dojo-env\\lib\\site-packages (0.31.0)\n"
     ]
    }
   ],
   "source": [
    "!pip install tensorflow-io-gcs-filesystem==0.31.0 --user"
   ]
  },
  {
   "cell_type": "code",
   "execution_count": 53,
   "id": "b78f790d-1c2f-4919-8b80-3cb05733c980",
   "metadata": {},
   "outputs": [
    {
     "name": "stdout",
     "output_type": "stream",
     "text": [
      "Requirement already satisfied: tensorflow==2.12.0 in c:\\users\\rdrlr\\anaconda3\\envs\\dojo-env\\lib\\site-packages (2.12.0)\n",
      "Requirement already satisfied: tensorflow-intel==2.12.0 in c:\\users\\rdrlr\\anaconda3\\envs\\dojo-env\\lib\\site-packages (from tensorflow==2.12.0) (2.12.0)\n",
      "Requirement already satisfied: absl-py>=1.0.0 in c:\\users\\rdrlr\\anaconda3\\envs\\dojo-env\\lib\\site-packages (from tensorflow-intel==2.12.0->tensorflow==2.12.0) (1.4.0)\n",
      "Requirement already satisfied: astunparse>=1.6.0 in c:\\users\\rdrlr\\anaconda3\\envs\\dojo-env\\lib\\site-packages (from tensorflow-intel==2.12.0->tensorflow==2.12.0) (1.6.3)\n",
      "Requirement already satisfied: flatbuffers>=2.0 in c:\\users\\rdrlr\\anaconda3\\envs\\dojo-env\\lib\\site-packages (from tensorflow-intel==2.12.0->tensorflow==2.12.0) (23.5.9)\n",
      "Requirement already satisfied: gast<=0.4.0,>=0.2.1 in c:\\users\\rdrlr\\anaconda3\\envs\\dojo-env\\lib\\site-packages (from tensorflow-intel==2.12.0->tensorflow==2.12.0) (0.4.0)\n",
      "Requirement already satisfied: google-pasta>=0.1.1 in c:\\users\\rdrlr\\anaconda3\\envs\\dojo-env\\lib\\site-packages (from tensorflow-intel==2.12.0->tensorflow==2.12.0) (0.2.0)\n",
      "Requirement already satisfied: h5py>=2.9.0 in c:\\users\\rdrlr\\anaconda3\\envs\\dojo-env\\lib\\site-packages (from tensorflow-intel==2.12.0->tensorflow==2.12.0) (3.8.0)\n",
      "Requirement already satisfied: jax>=0.3.15 in c:\\users\\rdrlr\\anaconda3\\envs\\dojo-env\\lib\\site-packages (from tensorflow-intel==2.12.0->tensorflow==2.12.0) (0.4.10)\n",
      "Requirement already satisfied: libclang>=13.0.0 in c:\\users\\rdrlr\\anaconda3\\envs\\dojo-env\\lib\\site-packages (from tensorflow-intel==2.12.0->tensorflow==2.12.0) (16.0.0)\n",
      "Requirement already satisfied: numpy<1.24,>=1.22 in c:\\users\\rdrlr\\anaconda3\\envs\\dojo-env\\lib\\site-packages (from tensorflow-intel==2.12.0->tensorflow==2.12.0) (1.23.4)\n",
      "Requirement already satisfied: opt-einsum>=2.3.2 in c:\\users\\rdrlr\\anaconda3\\envs\\dojo-env\\lib\\site-packages (from tensorflow-intel==2.12.0->tensorflow==2.12.0) (3.3.0)\n",
      "Requirement already satisfied: packaging in c:\\users\\rdrlr\\anaconda3\\envs\\dojo-env\\lib\\site-packages (from tensorflow-intel==2.12.0->tensorflow==2.12.0) (23.0)\n",
      "Requirement already satisfied: protobuf!=4.21.0,!=4.21.1,!=4.21.2,!=4.21.3,!=4.21.4,!=4.21.5,<5.0.0dev,>=3.20.3 in c:\\users\\rdrlr\\anaconda3\\envs\\dojo-env\\lib\\site-packages (from tensorflow-intel==2.12.0->tensorflow==2.12.0) (4.23.1)\n",
      "Requirement already satisfied: setuptools in c:\\users\\rdrlr\\anaconda3\\envs\\dojo-env\\lib\\site-packages (from tensorflow-intel==2.12.0->tensorflow==2.12.0) (66.0.0)\n",
      "Requirement already satisfied: six>=1.12.0 in c:\\users\\rdrlr\\anaconda3\\envs\\dojo-env\\lib\\site-packages (from tensorflow-intel==2.12.0->tensorflow==2.12.0) (1.16.0)\n",
      "Requirement already satisfied: termcolor>=1.1.0 in c:\\users\\rdrlr\\anaconda3\\envs\\dojo-env\\lib\\site-packages (from tensorflow-intel==2.12.0->tensorflow==2.12.0) (2.3.0)\n",
      "Requirement already satisfied: typing-extensions>=3.6.6 in c:\\users\\rdrlr\\anaconda3\\envs\\dojo-env\\lib\\site-packages (from tensorflow-intel==2.12.0->tensorflow==2.12.0) (4.5.0)\n",
      "Requirement already satisfied: wrapt<1.15,>=1.11.0 in c:\\users\\rdrlr\\anaconda3\\envs\\dojo-env\\lib\\site-packages (from tensorflow-intel==2.12.0->tensorflow==2.12.0) (1.14.1)\n",
      "Requirement already satisfied: grpcio<2.0,>=1.24.3 in c:\\users\\rdrlr\\anaconda3\\envs\\dojo-env\\lib\\site-packages (from tensorflow-intel==2.12.0->tensorflow==2.12.0) (1.59.0)\n",
      "Requirement already satisfied: tensorboard<2.13,>=2.12 in c:\\users\\rdrlr\\anaconda3\\envs\\dojo-env\\lib\\site-packages (from tensorflow-intel==2.12.0->tensorflow==2.12.0) (2.12.3)\n",
      "Requirement already satisfied: tensorflow-estimator<2.13,>=2.12.0 in c:\\users\\rdrlr\\anaconda3\\envs\\dojo-env\\lib\\site-packages (from tensorflow-intel==2.12.0->tensorflow==2.12.0) (2.12.0)\n",
      "Requirement already satisfied: keras<2.13,>=2.12.0 in c:\\users\\rdrlr\\anaconda3\\envs\\dojo-env\\lib\\site-packages (from tensorflow-intel==2.12.0->tensorflow==2.12.0) (2.12.0)\n",
      "Requirement already satisfied: tensorflow-io-gcs-filesystem>=0.23.1 in c:\\users\\rdrlr\\anaconda3\\envs\\dojo-env\\lib\\site-packages (from tensorflow-intel==2.12.0->tensorflow==2.12.0) (0.31.0)\n",
      "Requirement already satisfied: wheel<1.0,>=0.23.0 in c:\\users\\rdrlr\\anaconda3\\envs\\dojo-env\\lib\\site-packages (from astunparse>=1.6.0->tensorflow-intel==2.12.0->tensorflow==2.12.0) (0.38.4)\n",
      "Requirement already satisfied: ml-dtypes>=0.1.0 in c:\\users\\rdrlr\\anaconda3\\envs\\dojo-env\\lib\\site-packages (from jax>=0.3.15->tensorflow-intel==2.12.0->tensorflow==2.12.0) (0.1.0)\n",
      "Requirement already satisfied: scipy>=1.7 in c:\\users\\rdrlr\\anaconda3\\envs\\dojo-env\\lib\\site-packages (from jax>=0.3.15->tensorflow-intel==2.12.0->tensorflow==2.12.0) (1.10.1)\n",
      "Requirement already satisfied: google-auth<3,>=1.6.3 in c:\\users\\rdrlr\\anaconda3\\envs\\dojo-env\\lib\\site-packages (from tensorboard<2.13,>=2.12->tensorflow-intel==2.12.0->tensorflow==2.12.0) (2.18.1)\n",
      "Requirement already satisfied: google-auth-oauthlib<1.1,>=0.5 in c:\\users\\rdrlr\\anaconda3\\envs\\dojo-env\\lib\\site-packages (from tensorboard<2.13,>=2.12->tensorflow-intel==2.12.0->tensorflow==2.12.0) (1.0.0)\n",
      "Requirement already satisfied: markdown>=2.6.8 in c:\\users\\rdrlr\\anaconda3\\envs\\dojo-env\\lib\\site-packages (from tensorboard<2.13,>=2.12->tensorflow-intel==2.12.0->tensorflow==2.12.0) (3.4.3)\n",
      "Requirement already satisfied: requests<3,>=2.21.0 in c:\\users\\rdrlr\\anaconda3\\envs\\dojo-env\\lib\\site-packages (from tensorboard<2.13,>=2.12->tensorflow-intel==2.12.0->tensorflow==2.12.0) (2.29.0)\n",
      "Requirement already satisfied: tensorboard-data-server<0.8.0,>=0.7.0 in c:\\users\\rdrlr\\anaconda3\\envs\\dojo-env\\lib\\site-packages (from tensorboard<2.13,>=2.12->tensorflow-intel==2.12.0->tensorflow==2.12.0) (0.7.0)\n",
      "Requirement already satisfied: werkzeug>=1.0.1 in c:\\users\\rdrlr\\anaconda3\\envs\\dojo-env\\lib\\site-packages (from tensorboard<2.13,>=2.12->tensorflow-intel==2.12.0->tensorflow==2.12.0) (2.3.4)\n",
      "Requirement already satisfied: cachetools<6.0,>=2.0.0 in c:\\users\\rdrlr\\anaconda3\\envs\\dojo-env\\lib\\site-packages (from google-auth<3,>=1.6.3->tensorboard<2.13,>=2.12->tensorflow-intel==2.12.0->tensorflow==2.12.0) (5.3.0)\n",
      "Requirement already satisfied: pyasn1-modules>=0.2.1 in c:\\users\\rdrlr\\anaconda3\\envs\\dojo-env\\lib\\site-packages (from google-auth<3,>=1.6.3->tensorboard<2.13,>=2.12->tensorflow-intel==2.12.0->tensorflow==2.12.0) (0.3.0)\n",
      "Requirement already satisfied: urllib3<2.0 in c:\\users\\rdrlr\\anaconda3\\envs\\dojo-env\\lib\\site-packages (from google-auth<3,>=1.6.3->tensorboard<2.13,>=2.12->tensorflow-intel==2.12.0->tensorflow==2.12.0) (1.26.15)\n",
      "Requirement already satisfied: rsa<5,>=3.1.4 in c:\\users\\rdrlr\\anaconda3\\envs\\dojo-env\\lib\\site-packages (from google-auth<3,>=1.6.3->tensorboard<2.13,>=2.12->tensorflow-intel==2.12.0->tensorflow==2.12.0) (4.9)\n",
      "Requirement already satisfied: requests-oauthlib>=0.7.0 in c:\\users\\rdrlr\\anaconda3\\envs\\dojo-env\\lib\\site-packages (from google-auth-oauthlib<1.1,>=0.5->tensorboard<2.13,>=2.12->tensorflow-intel==2.12.0->tensorflow==2.12.0) (1.3.1)\n",
      "Requirement already satisfied: charset-normalizer<4,>=2 in c:\\users\\rdrlr\\anaconda3\\envs\\dojo-env\\lib\\site-packages (from requests<3,>=2.21.0->tensorboard<2.13,>=2.12->tensorflow-intel==2.12.0->tensorflow==2.12.0) (2.0.4)\n",
      "Requirement already satisfied: idna<4,>=2.5 in c:\\users\\rdrlr\\anaconda3\\envs\\dojo-env\\lib\\site-packages (from requests<3,>=2.21.0->tensorboard<2.13,>=2.12->tensorflow-intel==2.12.0->tensorflow==2.12.0) (3.4)\n",
      "Requirement already satisfied: certifi>=2017.4.17 in c:\\users\\rdrlr\\anaconda3\\envs\\dojo-env\\lib\\site-packages (from requests<3,>=2.21.0->tensorboard<2.13,>=2.12->tensorflow-intel==2.12.0->tensorflow==2.12.0) (2023.5.7)\n",
      "Requirement already satisfied: MarkupSafe>=2.1.1 in c:\\users\\rdrlr\\anaconda3\\envs\\dojo-env\\lib\\site-packages (from werkzeug>=1.0.1->tensorboard<2.13,>=2.12->tensorflow-intel==2.12.0->tensorflow==2.12.0) (2.1.1)\n",
      "Requirement already satisfied: pyasn1<0.6.0,>=0.4.6 in c:\\users\\rdrlr\\anaconda3\\envs\\dojo-env\\lib\\site-packages (from pyasn1-modules>=0.2.1->google-auth<3,>=1.6.3->tensorboard<2.13,>=2.12->tensorflow-intel==2.12.0->tensorflow==2.12.0) (0.5.0)\n",
      "Requirement already satisfied: oauthlib>=3.0.0 in c:\\users\\rdrlr\\anaconda3\\envs\\dojo-env\\lib\\site-packages (from requests-oauthlib>=0.7.0->google-auth-oauthlib<1.1,>=0.5->tensorboard<2.13,>=2.12->tensorflow-intel==2.12.0->tensorflow==2.12.0) (3.2.2)\n"
     ]
    }
   ],
   "source": [
    "!pip install tensorflow==2.12.0 --user"
   ]
  },
  {
   "cell_type": "code",
   "execution_count": 54,
   "id": "fcce73ff-d73a-4229-b3b6-6101c3e1ba76",
   "metadata": {},
   "outputs": [
    {
     "name": "stdout",
     "output_type": "stream",
     "text": [
      "Requirement already satisfied: termcolor==2.3.0 in c:\\users\\rdrlr\\anaconda3\\envs\\dojo-env\\lib\\site-packages (2.3.0)\n"
     ]
    }
   ],
   "source": [
    "!pip install termcolor==2.3.0 --user"
   ]
  },
  {
   "cell_type": "code",
   "execution_count": 55,
   "id": "671cc80a-e1ab-4ceb-8251-a1f28b18a184",
   "metadata": {},
   "outputs": [
    {
     "name": "stdout",
     "output_type": "stream",
     "text": [
      "Requirement already satisfied: trio-websocket==0.10.3 in c:\\users\\rdrlr\\anaconda3\\envs\\dojo-env\\lib\\site-packages (0.10.3)\n",
      "Requirement already satisfied: exceptiongroup in c:\\users\\rdrlr\\anaconda3\\envs\\dojo-env\\lib\\site-packages (from trio-websocket==0.10.3) (1.1.2)\n",
      "Requirement already satisfied: trio>=0.11 in c:\\users\\rdrlr\\anaconda3\\envs\\dojo-env\\lib\\site-packages (from trio-websocket==0.10.3) (0.22.2)\n",
      "Requirement already satisfied: wsproto>=0.14 in c:\\users\\rdrlr\\anaconda3\\envs\\dojo-env\\lib\\site-packages (from trio-websocket==0.10.3) (1.2.0)\n",
      "Requirement already satisfied: attrs>=20.1.0 in c:\\users\\rdrlr\\anaconda3\\envs\\dojo-env\\lib\\site-packages (from trio>=0.11->trio-websocket==0.10.3) (22.1.0)\n",
      "Requirement already satisfied: sortedcontainers in c:\\users\\rdrlr\\anaconda3\\envs\\dojo-env\\lib\\site-packages (from trio>=0.11->trio-websocket==0.10.3) (2.4.0)\n",
      "Requirement already satisfied: idna in c:\\users\\rdrlr\\anaconda3\\envs\\dojo-env\\lib\\site-packages (from trio>=0.11->trio-websocket==0.10.3) (3.4)\n",
      "Requirement already satisfied: outcome in c:\\users\\rdrlr\\anaconda3\\envs\\dojo-env\\lib\\site-packages (from trio>=0.11->trio-websocket==0.10.3) (1.2.0)\n",
      "Requirement already satisfied: sniffio in c:\\users\\rdrlr\\anaconda3\\envs\\dojo-env\\lib\\site-packages (from trio>=0.11->trio-websocket==0.10.3) (1.2.0)\n",
      "Requirement already satisfied: cffi>=1.14 in c:\\users\\rdrlr\\anaconda3\\envs\\dojo-env\\lib\\site-packages (from trio>=0.11->trio-websocket==0.10.3) (1.15.1)\n",
      "Requirement already satisfied: h11<1,>=0.9.0 in c:\\users\\rdrlr\\anaconda3\\envs\\dojo-env\\lib\\site-packages (from wsproto>=0.14->trio-websocket==0.10.3) (0.14.0)\n",
      "Requirement already satisfied: pycparser in c:\\users\\rdrlr\\anaconda3\\envs\\dojo-env\\lib\\site-packages (from cffi>=1.14->trio>=0.11->trio-websocket==0.10.3) (2.21)\n"
     ]
    }
   ],
   "source": [
    "!pip install trio-websocket==0.10.3 --user"
   ]
  },
  {
   "cell_type": "code",
   "execution_count": 56,
   "id": "cc378a6a-514b-43e6-bc1c-f3482b05a72c",
   "metadata": {},
   "outputs": [
    {
     "name": "stdout",
     "output_type": "stream",
     "text": [
      "Requirement already satisfied: trio==0.22.2 in c:\\users\\rdrlr\\anaconda3\\envs\\dojo-env\\lib\\site-packages (0.22.2)\n",
      "Requirement already satisfied: attrs>=20.1.0 in c:\\users\\rdrlr\\anaconda3\\envs\\dojo-env\\lib\\site-packages (from trio==0.22.2) (22.1.0)\n",
      "Requirement already satisfied: sortedcontainers in c:\\users\\rdrlr\\anaconda3\\envs\\dojo-env\\lib\\site-packages (from trio==0.22.2) (2.4.0)\n",
      "Requirement already satisfied: idna in c:\\users\\rdrlr\\anaconda3\\envs\\dojo-env\\lib\\site-packages (from trio==0.22.2) (3.4)\n",
      "Requirement already satisfied: outcome in c:\\users\\rdrlr\\anaconda3\\envs\\dojo-env\\lib\\site-packages (from trio==0.22.2) (1.2.0)\n",
      "Requirement already satisfied: sniffio in c:\\users\\rdrlr\\anaconda3\\envs\\dojo-env\\lib\\site-packages (from trio==0.22.2) (1.2.0)\n",
      "Requirement already satisfied: cffi>=1.14 in c:\\users\\rdrlr\\anaconda3\\envs\\dojo-env\\lib\\site-packages (from trio==0.22.2) (1.15.1)\n",
      "Requirement already satisfied: exceptiongroup>=1.0.0rc9 in c:\\users\\rdrlr\\anaconda3\\envs\\dojo-env\\lib\\site-packages (from trio==0.22.2) (1.1.2)\n",
      "Requirement already satisfied: pycparser in c:\\users\\rdrlr\\anaconda3\\envs\\dojo-env\\lib\\site-packages (from cffi>=1.14->trio==0.22.2) (2.21)\n"
     ]
    }
   ],
   "source": [
    "!pip install trio==0.22.2 --user"
   ]
  },
  {
   "cell_type": "code",
   "execution_count": 57,
   "id": "c995100b-7027-45d9-805a-13fbcd06cdd6",
   "metadata": {},
   "outputs": [
    {
     "name": "stdout",
     "output_type": "stream",
     "text": [
      "Requirement already satisfied: tzdata==2023.3 in c:\\users\\rdrlr\\anaconda3\\envs\\dojo-env\\lib\\site-packages (2023.3)\n"
     ]
    }
   ],
   "source": [
    "!pip install tzdata==2023.3 --user"
   ]
  },
  {
   "cell_type": "code",
   "execution_count": 58,
   "id": "e5bc72ae-dd2f-456d-8827-dd3b6b5431e8",
   "metadata": {},
   "outputs": [
    {
     "name": "stdout",
     "output_type": "stream",
     "text": [
      "Requirement already satisfied: tzlocal==5.0.1 in c:\\users\\rdrlr\\anaconda3\\envs\\dojo-env\\lib\\site-packages (5.0.1)\n",
      "Requirement already satisfied: tzdata in c:\\users\\rdrlr\\anaconda3\\envs\\dojo-env\\lib\\site-packages (from tzlocal==5.0.1) (2023.3)\n"
     ]
    }
   ],
   "source": [
    "!pip install tzlocal==5.0.1 --user"
   ]
  },
  {
   "cell_type": "code",
   "execution_count": 59,
   "id": "6257e6ce-d108-419b-9d3c-361ae90e9635",
   "metadata": {},
   "outputs": [
    {
     "name": "stdout",
     "output_type": "stream",
     "text": [
      "Requirement already satisfied: visualkeras==0.0.2 in c:\\users\\rdrlr\\anaconda3\\envs\\dojo-env\\lib\\site-packages (0.0.2)\n",
      "Requirement already satisfied: pillow>=6.2.0 in c:\\users\\rdrlr\\anaconda3\\envs\\dojo-env\\lib\\site-packages (from visualkeras==0.0.2) (9.4.0)\n",
      "Requirement already satisfied: numpy>=1.18.1 in c:\\users\\rdrlr\\anaconda3\\envs\\dojo-env\\lib\\site-packages (from visualkeras==0.0.2) (1.23.4)\n",
      "Requirement already satisfied: aggdraw>=1.3.11 in c:\\users\\rdrlr\\anaconda3\\envs\\dojo-env\\lib\\site-packages (from visualkeras==0.0.2) (1.3.18)\n"
     ]
    }
   ],
   "source": [
    "!pip install visualkeras==0.0.2 --user"
   ]
  },
  {
   "cell_type": "code",
   "execution_count": 60,
   "id": "ffb8784c-8820-4bd0-9723-8fd161987901",
   "metadata": {},
   "outputs": [
    {
     "name": "stdout",
     "output_type": "stream",
     "text": [
      "Requirement already satisfied: werkzeug==2.3.4 in c:\\users\\rdrlr\\anaconda3\\envs\\dojo-env\\lib\\site-packages (2.3.4)\n",
      "Requirement already satisfied: MarkupSafe>=2.1.1 in c:\\users\\rdrlr\\anaconda3\\envs\\dojo-env\\lib\\site-packages (from werkzeug==2.3.4) (2.1.1)\n"
     ]
    }
   ],
   "source": [
    "!pip install werkzeug==2.3.4 --user"
   ]
  },
  {
   "cell_type": "code",
   "execution_count": 61,
   "id": "7f52c600-c828-4eef-bff1-1a3d4a805627",
   "metadata": {},
   "outputs": [
    {
     "name": "stdout",
     "output_type": "stream",
     "text": [
      "Requirement already satisfied: wrapt==1.14.1 in c:\\users\\rdrlr\\anaconda3\\envs\\dojo-env\\lib\\site-packages (1.14.1)\n"
     ]
    }
   ],
   "source": [
    "!pip install wrapt==1.14.1 --user"
   ]
  },
  {
   "cell_type": "code",
   "execution_count": 62,
   "id": "22021729-4643-4d1f-aa8d-2b52fe7469c9",
   "metadata": {},
   "outputs": [
    {
     "name": "stdout",
     "output_type": "stream",
     "text": [
      "Requirement already satisfied: wsproto==1.2.0 in c:\\users\\rdrlr\\anaconda3\\envs\\dojo-env\\lib\\site-packages (1.2.0)\n",
      "Requirement already satisfied: h11<1,>=0.9.0 in c:\\users\\rdrlr\\anaconda3\\envs\\dojo-env\\lib\\site-packages (from wsproto==1.2.0) (0.14.0)\n"
     ]
    }
   ],
   "source": [
    "!pip install wsproto==1.2.0 --user"
   ]
  },
  {
   "cell_type": "code",
   "execution_count": 63,
   "id": "e6c673ed-84bf-47b3-a765-bb1547694071",
   "metadata": {},
   "outputs": [
    {
     "name": "stdout",
     "output_type": "stream",
     "text": [
      "Requirement already satisfied: yellowbrick==1.5 in c:\\users\\rdrlr\\anaconda3\\envs\\dojo-env\\lib\\site-packages (1.5)\n",
      "Requirement already satisfied: matplotlib!=3.0.0,>=2.0.2 in c:\\users\\rdrlr\\anaconda3\\envs\\dojo-env\\lib\\site-packages (from yellowbrick==1.5) (3.7.1)\n",
      "Requirement already satisfied: scipy>=1.0.0 in c:\\users\\rdrlr\\anaconda3\\envs\\dojo-env\\lib\\site-packages (from yellowbrick==1.5) (1.10.1)\n",
      "Requirement already satisfied: scikit-learn>=1.0.0 in c:\\users\\rdrlr\\anaconda3\\envs\\dojo-env\\lib\\site-packages (from yellowbrick==1.5) (1.2.2)\n",
      "Requirement already satisfied: numpy>=1.16.0 in c:\\users\\rdrlr\\anaconda3\\envs\\dojo-env\\lib\\site-packages (from yellowbrick==1.5) (1.23.4)\n",
      "Requirement already satisfied: cycler>=0.10.0 in c:\\users\\rdrlr\\anaconda3\\envs\\dojo-env\\lib\\site-packages (from yellowbrick==1.5) (0.11.0)\n",
      "Requirement already satisfied: contourpy>=1.0.1 in c:\\users\\rdrlr\\anaconda3\\envs\\dojo-env\\lib\\site-packages (from matplotlib!=3.0.0,>=2.0.2->yellowbrick==1.5) (1.0.5)\n",
      "Requirement already satisfied: fonttools>=4.22.0 in c:\\users\\rdrlr\\anaconda3\\envs\\dojo-env\\lib\\site-packages (from matplotlib!=3.0.0,>=2.0.2->yellowbrick==1.5) (4.25.0)\n",
      "Requirement already satisfied: kiwisolver>=1.0.1 in c:\\users\\rdrlr\\anaconda3\\envs\\dojo-env\\lib\\site-packages (from matplotlib!=3.0.0,>=2.0.2->yellowbrick==1.5) (1.4.4)\n",
      "Requirement already satisfied: packaging>=20.0 in c:\\users\\rdrlr\\anaconda3\\envs\\dojo-env\\lib\\site-packages (from matplotlib!=3.0.0,>=2.0.2->yellowbrick==1.5) (23.0)\n",
      "Requirement already satisfied: pillow>=6.2.0 in c:\\users\\rdrlr\\anaconda3\\envs\\dojo-env\\lib\\site-packages (from matplotlib!=3.0.0,>=2.0.2->yellowbrick==1.5) (9.4.0)\n",
      "Requirement already satisfied: pyparsing>=2.3.1 in c:\\users\\rdrlr\\anaconda3\\envs\\dojo-env\\lib\\site-packages (from matplotlib!=3.0.0,>=2.0.2->yellowbrick==1.5) (3.0.9)\n",
      "Requirement already satisfied: python-dateutil>=2.7 in c:\\users\\rdrlr\\anaconda3\\envs\\dojo-env\\lib\\site-packages (from matplotlib!=3.0.0,>=2.0.2->yellowbrick==1.5) (2.8.2)\n",
      "Requirement already satisfied: joblib>=1.1.1 in c:\\users\\rdrlr\\anaconda3\\envs\\dojo-env\\lib\\site-packages (from scikit-learn>=1.0.0->yellowbrick==1.5) (1.1.1)\n",
      "Requirement already satisfied: threadpoolctl>=2.0.0 in c:\\users\\rdrlr\\anaconda3\\envs\\dojo-env\\lib\\site-packages (from scikit-learn>=1.0.0->yellowbrick==1.5) (2.2.0)\n",
      "Requirement already satisfied: six>=1.5 in c:\\users\\rdrlr\\anaconda3\\envs\\dojo-env\\lib\\site-packages (from python-dateutil>=2.7->matplotlib!=3.0.0,>=2.0.2->yellowbrick==1.5) (1.16.0)\n"
     ]
    }
   ],
   "source": [
    "!pip install yellowbrick==1.5 --user"
   ]
  },
  {
   "cell_type": "code",
   "execution_count": 64,
   "id": "ab085a25-8b3f-4d0f-87cf-43c2e7c04310",
   "metadata": {},
   "outputs": [
    {
     "name": "stdout",
     "output_type": "stream",
     "text": [
      "Requirement already satisfied: yfinance==0.2.18 in c:\\users\\rdrlr\\anaconda3\\envs\\dojo-env\\lib\\site-packages (0.2.18)\n",
      "Requirement already satisfied: pandas>=1.3.0 in c:\\users\\rdrlr\\anaconda3\\envs\\dojo-env\\lib\\site-packages (from yfinance==0.2.18) (1.5.3)\n",
      "Requirement already satisfied: numpy>=1.16.5 in c:\\users\\rdrlr\\anaconda3\\envs\\dojo-env\\lib\\site-packages (from yfinance==0.2.18) (1.23.4)\n",
      "Requirement already satisfied: requests>=2.26 in c:\\users\\rdrlr\\anaconda3\\envs\\dojo-env\\lib\\site-packages (from yfinance==0.2.18) (2.29.0)\n",
      "Requirement already satisfied: multitasking>=0.0.7 in c:\\users\\rdrlr\\anaconda3\\envs\\dojo-env\\lib\\site-packages (from yfinance==0.2.18) (0.0.11)\n",
      "Requirement already satisfied: lxml>=4.9.1 in c:\\users\\rdrlr\\anaconda3\\envs\\dojo-env\\lib\\site-packages (from yfinance==0.2.18) (4.9.2)\n",
      "Requirement already satisfied: appdirs>=1.4.4 in c:\\users\\rdrlr\\anaconda3\\envs\\dojo-env\\lib\\site-packages (from yfinance==0.2.18) (1.4.4)\n",
      "Requirement already satisfied: pytz>=2022.5 in c:\\users\\rdrlr\\anaconda3\\envs\\dojo-env\\lib\\site-packages (from yfinance==0.2.18) (2022.7.1)\n",
      "Requirement already satisfied: frozendict>=2.3.4 in c:\\users\\rdrlr\\anaconda3\\envs\\dojo-env\\lib\\site-packages (from yfinance==0.2.18) (2.3.8)\n",
      "Requirement already satisfied: cryptography>=3.3.2 in c:\\users\\rdrlr\\anaconda3\\envs\\dojo-env\\lib\\site-packages (from yfinance==0.2.18) (39.0.1)\n",
      "Requirement already satisfied: beautifulsoup4>=4.11.1 in c:\\users\\rdrlr\\anaconda3\\envs\\dojo-env\\lib\\site-packages (from yfinance==0.2.18) (4.12.2)\n",
      "Requirement already satisfied: html5lib>=1.1 in c:\\users\\rdrlr\\anaconda3\\envs\\dojo-env\\lib\\site-packages (from yfinance==0.2.18) (1.1)\n",
      "Requirement already satisfied: soupsieve>1.2 in c:\\users\\rdrlr\\anaconda3\\envs\\dojo-env\\lib\\site-packages (from beautifulsoup4>=4.11.1->yfinance==0.2.18) (2.4)\n",
      "Requirement already satisfied: cffi>=1.12 in c:\\users\\rdrlr\\anaconda3\\envs\\dojo-env\\lib\\site-packages (from cryptography>=3.3.2->yfinance==0.2.18) (1.15.1)\n",
      "Requirement already satisfied: six>=1.9 in c:\\users\\rdrlr\\anaconda3\\envs\\dojo-env\\lib\\site-packages (from html5lib>=1.1->yfinance==0.2.18) (1.16.0)\n",
      "Requirement already satisfied: webencodings in c:\\users\\rdrlr\\anaconda3\\envs\\dojo-env\\lib\\site-packages (from html5lib>=1.1->yfinance==0.2.18) (0.5.1)\n",
      "Requirement already satisfied: python-dateutil>=2.8.1 in c:\\users\\rdrlr\\anaconda3\\envs\\dojo-env\\lib\\site-packages (from pandas>=1.3.0->yfinance==0.2.18) (2.8.2)\n",
      "Requirement already satisfied: charset-normalizer<4,>=2 in c:\\users\\rdrlr\\anaconda3\\envs\\dojo-env\\lib\\site-packages (from requests>=2.26->yfinance==0.2.18) (2.0.4)\n",
      "Requirement already satisfied: idna<4,>=2.5 in c:\\users\\rdrlr\\anaconda3\\envs\\dojo-env\\lib\\site-packages (from requests>=2.26->yfinance==0.2.18) (3.4)\n",
      "Requirement already satisfied: urllib3<1.27,>=1.21.1 in c:\\users\\rdrlr\\anaconda3\\envs\\dojo-env\\lib\\site-packages (from requests>=2.26->yfinance==0.2.18) (1.26.15)\n",
      "Requirement already satisfied: certifi>=2017.4.17 in c:\\users\\rdrlr\\anaconda3\\envs\\dojo-env\\lib\\site-packages (from requests>=2.26->yfinance==0.2.18) (2023.5.7)\n",
      "Requirement already satisfied: pycparser in c:\\users\\rdrlr\\anaconda3\\envs\\dojo-env\\lib\\site-packages (from cffi>=1.12->cryptography>=3.3.2->yfinance==0.2.18) (2.21)\n"
     ]
    }
   ],
   "source": [
    "!pip install yfinance==0.2.18 --user"
   ]
  }
 ],
 "metadata": {
  "kernelspec": {
   "display_name": "Python 3 (ipykernel)",
   "language": "python",
   "name": "python3"
  },
  "language_info": {
   "codemirror_mode": {
    "name": "ipython",
    "version": 3
   },
   "file_extension": ".py",
   "mimetype": "text/x-python",
   "name": "python",
   "nbconvert_exporter": "python",
   "pygments_lexer": "ipython3",
   "version": "3.10.10"
  }
 },
 "nbformat": 4,
 "nbformat_minor": 5
}
